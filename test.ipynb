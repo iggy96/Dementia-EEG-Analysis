{
 "cells": [
  {
   "cell_type": "code",
   "execution_count": null,
   "metadata": {},
   "outputs": [],
   "source": [
    "from fn_cfg import *\n",
    "import params as cfg"
   ]
  },
  {
   "cell_type": "code",
   "execution_count": null,
   "metadata": {},
   "outputs": [],
   "source": [
    "\"Laurel Place Dataset\"\n",
    "localPath = '/Users/joshuaighalo/Downloads/EEG_Datasets/laurel_place/cleaned_dataset'\n",
    "img_save_path = '/Users/joshuaighalo/Documents/BrainNet/Projects/Workspace/results/laurel place/images/single_averages'\n",
    "filename = '0002_1_12122019_1219'\n",
    "version = 1.0"
   ]
  },
  {
   "cell_type": "code",
   "execution_count": null,
   "metadata": {},
   "outputs": [],
   "source": [
    "device = importFile.neurocatch()\n",
    "fileObjects = device.init(version,filename,localPath,dispIMG=False)\n",
    "rawEEG = fileObjects[0]\n",
    "rawEOG = fileObjects[1]\n",
    "rawEEGEOG = fileObjects[2]\n",
    "time = fileObjects[3]\n",
    "trigOutput = fileObjects[4]\n",
    "\n",
    "plots(time,rawEEGEOG,titles=cfg.channelNames_1,figsize=cfg.figure_size,pltclr=cfg.plot_color_1)"
   ]
  },
  {
   "cell_type": "code",
   "execution_count": null,
   "metadata": {},
   "outputs": [],
   "source": [
    "filtering = filters()\n",
    "deltaBand = filtering.butterBandPass(rawEEG,1,4,cfg.fs)\n",
    "thetaBand = filtering.butterBandPass(rawEEG,4,8,cfg.fs)\n",
    "alphaBand = filtering.butterBandPass(rawEEG,8,12,cfg.fs)\n",
    "betaBand = filtering.butterBandPass(rawEEG,12,30,cfg.fs)\n"
   ]
  }
 ],
 "metadata": {
  "kernelspec": {
   "display_name": "Python 3.9.13 ('base')",
   "language": "python",
   "name": "python3"
  },
  "language_info": {
   "name": "python",
   "version": "3.9.13"
  },
  "orig_nbformat": 4,
  "vscode": {
   "interpreter": {
    "hash": "40d3a090f54c6569ab1632332b64b2c03c39dcf918b08424e98f38b5ae0af88f"
   }
  }
 },
 "nbformat": 4,
 "nbformat_minor": 2
}
