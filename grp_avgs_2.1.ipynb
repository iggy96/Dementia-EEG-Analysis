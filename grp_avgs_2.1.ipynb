{
 "cells": [
  {
   "cell_type": "markdown",
   "metadata": {},
   "source": [
    "EEG Quality Index (Best N elements)\n",
    "\n",
    "Script Features:\n",
    "1. imports first scans for every participant\n",
    "2. Merge mild and moderate dementia classes\n",
    "3. Run SQF on the none,severe 7 mild-moderate dementia classes\n",
    "4. Pick the top eight scans per class to match the class with the lowest population (none dementia-12 months, mild-moderate dementia - 12 months)\n",
    "5. cutoff_LP functionality to activated to remove jitters and changes based on the lowpass value used for bandpass filter\n"
   ]
  },
  {
   "cell_type": "code",
   "execution_count": 1,
   "metadata": {},
   "outputs": [],
   "source": [
    "from fn_cfg import *\n",
    "import params as cfg\n",
    "from SQF import signal_quality_index"
   ]
  },
  {
   "cell_type": "code",
   "execution_count": 2,
   "metadata": {},
   "outputs": [],
   "source": [
    "\"Laurel Place Dataset\"\n",
    "localPath = '/Users/joshuaighalo/Downloads/brainNet_datasets/laurel_place/cleaned_dataset'\n",
    "scansInfo_Path = \"/Users/joshuaighalo/Documents/BrainNet/Projects/Workspace/results/laurel place/\"\n",
    "image_dest_dir = '/Users/joshuaighalo/Documents/BrainNet/Projects/Workspace/results/laurel place/images/grp_avgs_2.1'\n",
    "filename = 'first_scan_per_all_participants.csv'\n",
    "file_dir = scansInfo_Path+filename\n",
    "version = 1.0\n",
    "disp = \"Cz\"\n",
    "cutoff_LP = [True,cfg.lowPass]"
   ]
  },
  {
   "cell_type": "code",
   "execution_count": 3,
   "metadata": {},
   "outputs": [],
   "source": [
    "def eeg_quality(filenames,version,localPath):\n",
    "    def param_fnc(filename,version,localPath):\n",
    "        device = importFile.neurocatch()\n",
    "        fileObjects = device.init(version,filename,localPath,dispIMG=False)\n",
    "        rawEEG = fileObjects[0]\n",
    "        rawEOG = fileObjects[1]\n",
    "        rawEEGEOG = fileObjects[2]\n",
    "        time = fileObjects[3]\n",
    "        quality = signal_quality_index(rawEEG[:,0],time,filename,dispIMG=True)\n",
    "        return quality\n",
    "    output = []\n",
    "    for i in range(len(filenames)):\n",
    "        output.append(param_fnc(filenames[i],version,localPath))\n",
    "    output = np.array(output)\n",
    "    return output\n",
    "\n",
    "def nonZero(files,scores):\n",
    "    idx_zero = np.where(scores == 0)[0]\n",
    "    nonZeroScores = np.delete(scores,idx_zero)\n",
    "    qFiles = np.delete(files,idx_zero)\n",
    "    return qFiles,nonZeroScores\n",
    "\n",
    "def topScores(files,scores,size):\n",
    "    idx_sort = np.argsort(scores)\n",
    "    idx_sort = idx_sort[::-1]\n",
    "    topScores = np.take(scores,idx_sort[:size])\n",
    "    topFiles = np.take(files,idx_sort[:size])\n",
    "    return topFiles,topScores"
   ]
  },
  {
   "cell_type": "code",
   "execution_count": 4,
   "metadata": {},
   "outputs": [],
   "source": [
    "#   baseline scans for different dementia classes\n",
    "first_scans = pd.read_csv(file_dir)"
   ]
  },
  {
   "cell_type": "code",
   "execution_count": 5,
   "metadata": {},
   "outputs": [],
   "source": [
    "#   scans at the baseline point for different dementia classes\n",
    "nd_baseline = np.asarray([x for x in (first_scans['Baseline No Dementia'].to_numpy()) if str(x) != 'nan'])\n",
    "mild_baseline = np.asarray([x for x in (first_scans['Baseline Mild Dementia'].to_numpy()) if str(x) != 'nan'])\n",
    "moderate_baseline = np.asarray([x for x in (first_scans['Baseline Moderate Dementia'].to_numpy()) if str(x) != 'nan'])\n",
    "mild_moderate_baseline = np.hstack((mild_baseline,moderate_baseline))\n",
    "severe_baseline = np.asarray([x for x in (first_scans['Baseline Severe Dementia'].to_numpy()) if str(x) != 'nan'])\n",
    "\n",
    "#   scans at the 6-month point for different dementia classes\n",
    "nd_6 = np.asarray([x for x in (first_scans['4-months No Dementia'].to_numpy()) if str(x) != 'nan'])\n",
    "mild_6 = np.asarray([x for x in (first_scans['4-months Mild Dementia'].to_numpy()) if str(x) != 'nan'])\n",
    "moderate_6 = np.asarray([x for x in (first_scans['4-months Moderate Dementia'].to_numpy()) if str(x) != 'nan'])\n",
    "mild_moderate_6 = np.hstack((mild_6,moderate_6))\n",
    "severe_6 = np.asarray([x for x in (first_scans['4-months Severe Dementia'].to_numpy()) if str(x) != 'nan'])\n",
    "\n",
    "# scans at the 12-month point for different dementia classes\n",
    "nd_12 = np.asarray([x for x in (first_scans['8-months No Dementia'].to_numpy()) if str(x) != 'nan'])\n",
    "mild_12 = np.asarray([x for x in (first_scans['8-months Mild Dementia'].to_numpy()) if str(x) != 'nan'])\n",
    "moderate_12 = np.asarray([x for x in (first_scans['8-months Moderate Dementia'].to_numpy()) if str(x) != 'nan'])\n",
    "mild_moderate_12 = np.hstack((mild_12,moderate_12))\n",
    "severe_12 = np.asarray([x for x in (first_scans['8-months Severe Dementia'].to_numpy()) if str(x) != 'nan'])"
   ]
  },
  {
   "cell_type": "code",
   "execution_count": 6,
   "metadata": {},
   "outputs": [
    {
     "name": "stdout",
     "output_type": "stream",
     "text": [
      "0005_1_06052019_1023\n",
      "Amplitude Spectrum: 76%\n",
      "Line Noise: 68%\n",
      "RMS: 99%\n",
      "Maximum Gradient: 59%\n",
      "ZCR: 96%\n",
      "Kurtosis: 52%\n",
      "Signal Quality: 16%\n",
      "\n",
      "\n",
      "0011_1_11122017_1357\n",
      "Amplitude Spectrum: 76%\n",
      "Line Noise: 40%\n",
      "RMS: 87%\n",
      "Maximum Gradient: 78%\n",
      "ZCR: 80%\n",
      "Kurtosis: 65%\n",
      "Signal Quality: 9%\n",
      "\n",
      "\n",
      "0038_1_21032019_1045\n",
      "Amplitude Spectrum: 55%\n",
      "Line Noise: 20%\n",
      "RMS: 90%\n",
      "Maximum Gradient: 35%\n",
      "ZCR: 95%\n",
      "Kurtosis: 60%\n",
      "Signal Quality: 1%\n",
      "\n",
      "\n",
      "0049_1_25022019_1154\n",
      "Amplitude Spectrum: 82%\n",
      "Line Noise: 29%\n",
      "RMS: 87%\n",
      "Maximum Gradient: 47%\n",
      "ZCR: 87%\n",
      "Kurtosis: 54%\n",
      "Signal Quality: 2%\n",
      "\n",
      "\n",
      "0066_1_26042019_0944\n",
      "Amplitude Spectrum: 84%\n",
      "Line Noise: 27%\n",
      "RMS: 69%\n",
      "Maximum Gradient: 92%\n",
      "ZCR: 73%\n",
      "Kurtosis: 62%\n",
      "Signal Quality: 5%\n",
      "\n",
      "\n",
      "0073_1_13032019_1057\n",
      "Amplitude Spectrum: 86%\n",
      "Line Noise: 18%\n",
      "RMS: 80%\n",
      "Maximum Gradient: 71%\n",
      "ZCR: 89%\n",
      "Kurtosis: 66%\n",
      "Signal Quality: 4%\n",
      "\n",
      "\n"
     ]
    }
   ],
   "source": [
    "#   eeg quality for different dementia classes at baseline\n",
    "nd_baseline_quality = eeg_quality(nd_baseline,version,localPath)\n",
    "mild_moderate_baseline_quality = eeg_quality(mild_moderate_baseline,version,localPath)\n",
    "severe_baseline_quality = eeg_quality(severe_baseline,version,localPath)"
   ]
  },
  {
   "cell_type": "code",
   "execution_count": null,
   "metadata": {},
   "outputs": [],
   "source": [
    "#   eeg quality for different dementia classes at 6-months\n",
    "nd_6_quality = eeg_quality(nd_6,version,localPath)\n",
    "mild_moderate_6_quality = eeg_quality(mild_moderate_6,version,localPath)\n",
    "severe_6_quality = eeg_quality(severe_6,version,localPath)"
   ]
  },
  {
   "cell_type": "code",
   "execution_count": null,
   "metadata": {},
   "outputs": [],
   "source": [
    "#   eeg quality for different dementia classes at 12-months\n",
    "nd_12_quality = eeg_quality(nd_12,version,localPath)\n",
    "mild_moderate_12_quality = eeg_quality(mild_moderate_12,version,localPath)\n",
    "severe_12_quality = eeg_quality(severe_12,version,localPath)"
   ]
  },
  {
   "cell_type": "code",
   "execution_count": null,
   "metadata": {},
   "outputs": [],
   "source": [
    "\"\"\"\n",
    "Extract scans with an EQI score other than 0 using the nonZero function\n",
    "Extract the top eight scans to ensure population matching across each class\n",
    "\"\"\"\n",
    "\n",
    "no_scans = 9\n",
    "\n",
    "#   Baseline\n",
    "nzNoneBase_Files,nzNoneBase_Scores = nonZero(nd_baseline,nd_baseline_quality)\n",
    "nzMildBase_Files,nzMildBase_Scores = nonZero(mild_moderate_baseline,mild_moderate_baseline_quality)\n",
    "nzSevereBase_Files,nzSevereBase_Scores = nonZero(severe_baseline,severe_baseline_quality)\n",
    "tpNoneBase_Files,tpNoneBase_Scores = topScores(nzNoneBase_Files,nzNoneBase_Scores,no_scans)\n",
    "tpMildBase_Files,tpMildBase_Scores = topScores(nzMildBase_Files,nzMildBase_Scores,no_scans)\n",
    "tpSevereBase_Files,tpSevereBase_Scores = topScores(nzSevereBase_Files,nzSevereBase_Scores,no_scans)\n",
    "\n",
    "# 6-months\n",
    "nzNone6_Files,nzNone6_Scores = nonZero(nd_6,nd_6_quality)\n",
    "nzMild6_Files,nzMild6_Scores = nonZero(mild_moderate_6,mild_moderate_6_quality)\n",
    "nzSevere6_Files,nzSevere6_Scores = nonZero(severe_6,severe_6_quality)\n",
    "tpNone6_Files,tpNone6_Scores = topScores(nzNone6_Files,nzNone6_Scores,no_scans)\n",
    "tpMild6_Files,tpMild6_Scores = topScores(nzMild6_Files,nzMild6_Scores,no_scans)\n",
    "tpSevere6_Files,tpSevere6_Scores = topScores(nzSevere6_Files,nzSevere6_Scores,no_scans)\n",
    "\n",
    "# 12-months\n",
    "nzNone12_Files,nzNone12_Scores = nonZero(nd_12,nd_12_quality)\n",
    "nzMild12_Files,nzMild12_Scores = nonZero(mild_moderate_12,mild_moderate_12_quality)\n",
    "nzSevere12_Files,nzSevere12_Scores = nonZero(severe_12,severe_12_quality)\n",
    "tpNone12_Files,tpNone12_Scores = topScores(nzNone12_Files,nzNone12_Scores,no_scans)\n",
    "tpMild12_Files,tpMild12_Scores = topScores(nzMild12_Files,nzMild12_Scores,no_scans)\n",
    "tpSevere12_Files,tpSevere12_Scores = topScores(nzSevere12_Files,nzSevere12_Scores,no_scans)"
   ]
  },
  {
   "cell_type": "markdown",
   "metadata": {},
   "source": [
    "Utilize the scans passed as better quality based on threshold to extract averages "
   ]
  },
  {
   "cell_type": "code",
   "execution_count": null,
   "metadata": {},
   "outputs": [],
   "source": [
    "\"create a folder to store images produced\"\n",
    "shutil.rmtree(image_dest_dir, ignore_errors=True)\n",
    "os.makedirs(image_dest_dir)"
   ]
  },
  {
   "cell_type": "code",
   "execution_count": null,
   "metadata": {},
   "outputs": [],
   "source": [
    "print(\"ERPs of Cognitive Impairment Classes @ Baseline\")\n",
    "nd_baseline = averageERPs(device_version=version,chanNames=cfg.channelNames,scan_IDs=tpNoneBase_Files,dispIMG_Channel=disp,local_path=localPath,fs=cfg.fs,line=cfg.line,lowcut=cfg.highPass,highcut=cfg.lowPass,stimTrig=cfg.stimTrig,clip=cfg.clip,lowPassERP=cutoff_LP,label=\"No Dementia @ Baseline\",img_name=\"No Dementia @ Baseline\",destination_dir=image_dest_dir)\n",
    "mild_baseline = averageERPs(device_version=version,chanNames=cfg.channelNames,scan_IDs=tpMildBase_Files,dispIMG_Channel=disp,local_path=localPath,fs=cfg.fs,line=cfg.line,lowcut=cfg.highPass,highcut=cfg.lowPass,stimTrig=cfg.stimTrig,clip=cfg.clip,lowPassERP=cutoff_LP,label=\"Mild-Moderate Dementia @ Baseline\",img_name=\"Mild-Moderate Dementia @ Baseline\",destination_dir=image_dest_dir)\n",
    "severe_baseline = averageERPs(device_version=version,chanNames=cfg.channelNames,scan_IDs=tpSevereBase_Files,dispIMG_Channel=disp,local_path=localPath,fs=cfg.fs,line=cfg.line,lowcut=cfg.highPass,highcut=cfg.lowPass,stimTrig=cfg.stimTrig,clip=cfg.clip,lowPassERP=cutoff_LP,label=\"Severe Dementia @ Baseline\",img_name=\"Severe Dementia @ Baseline\",destination_dir=image_dest_dir)"
   ]
  },
  {
   "cell_type": "code",
   "execution_count": null,
   "metadata": {},
   "outputs": [],
   "source": [
    "print(\"ERPs of Cognitive Impairment Classes @ 6-months\")\n",
    "nd_6 = averageERPs(device_version=version,chanNames=cfg.channelNames,scan_IDs=tpNone6_Files,dispIMG_Channel=disp,local_path=localPath,fs=cfg.fs,line=cfg.line,lowcut=cfg.highPass,highcut=cfg.lowPass,stimTrig=cfg.stimTrig,clip=cfg.clip,lowPassERP=cutoff_LP,label=\"No Dementia @ 6-months\",img_name=\"No Dementia @ 6-months\",destination_dir=image_dest_dir)\n",
    "mild_6 = averageERPs(device_version=version,chanNames=cfg.channelNames,scan_IDs=tpMild6_Files,dispIMG_Channel=disp,local_path=localPath,fs=cfg.fs,line=cfg.line,lowcut=cfg.highPass,highcut=cfg.lowPass,stimTrig=cfg.stimTrig,clip=cfg.clip,lowPassERP=cutoff_LP,label=\"Mild-Moderate Dementia @ 6-months\",img_name=\"Mild-Moderate Dementia @ 6-months\",destination_dir=image_dest_dir)\n",
    "severe_6 = averageERPs(device_version=version,chanNames=cfg.channelNames,scan_IDs=tpSevere6_Files,dispIMG_Channel=disp,local_path=localPath,fs=cfg.fs,line=cfg.line,lowcut=cfg.highPass,highcut=cfg.lowPass,stimTrig=cfg.stimTrig,clip=cfg.clip,lowPassERP=cutoff_LP,label=\"Severe Dementia @ 6-months\",img_name=\"Severe Dementia @ 6-months\",destination_dir=image_dest_dir)"
   ]
  },
  {
   "cell_type": "code",
   "execution_count": null,
   "metadata": {},
   "outputs": [],
   "source": [
    "print(\"ERPs of Cognitive Impairment Classes @ 12-months\")\n",
    "nd_12 = averageERPs(device_version=version,chanNames=cfg.channelNames,scan_IDs=tpNone12_Files,dispIMG_Channel=disp,local_path=localPath,fs=cfg.fs,line=cfg.line,lowcut=cfg.highPass,highcut=cfg.lowPass,stimTrig=cfg.stimTrig,clip=cfg.clip,lowPassERP=cutoff_LP,label=\"No Dementia @ 12-months\",img_name=\"No Dementia @ 12-months\",destination_dir=image_dest_dir)\n",
    "mild_12 = averageERPs(device_version=version,chanNames=cfg.channelNames,scan_IDs=tpMild12_Files,dispIMG_Channel=disp,local_path=localPath,fs=cfg.fs,line=cfg.line,lowcut=cfg.highPass,highcut=cfg.lowPass,stimTrig=cfg.stimTrig,clip=cfg.clip,lowPassERP=cutoff_LP,label=\"Mild-Moderate Dementia @ 12-months\",img_name=\"Mild-Moderate Dementia @ 12-months\",destination_dir=image_dest_dir)\n",
    "severe_12 = averageERPs(device_version=version,chanNames=cfg.channelNames,scan_IDs=tpSevere12_Files,dispIMG_Channel=disp,local_path=localPath,fs=cfg.fs,line=cfg.line,lowcut=cfg.highPass,highcut=cfg.lowPass,stimTrig=cfg.stimTrig,clip=cfg.clip,lowPassERP=cutoff_LP,label=\"Severe Dementia @ 12-months\",img_name=\"Severe Dementia @ 12-months\",destination_dir=image_dest_dir)"
   ]
  }
 ],
 "metadata": {
  "kernelspec": {
   "display_name": "Python 3.9.13 ('base')",
   "language": "python",
   "name": "python3"
  },
  "language_info": {
   "codemirror_mode": {
    "name": "ipython",
    "version": 3
   },
   "file_extension": ".py",
   "mimetype": "text/x-python",
   "name": "python",
   "nbconvert_exporter": "python",
   "pygments_lexer": "ipython3",
   "version": "3.9.13"
  },
  "orig_nbformat": 4,
  "vscode": {
   "interpreter": {
    "hash": "40d3a090f54c6569ab1632332b64b2c03c39dcf918b08424e98f38b5ae0af88f"
   }
  }
 },
 "nbformat": 4,
 "nbformat_minor": 2
}
