{
 "cells": [
  {
   "cell_type": "code",
   "execution_count": 1,
   "metadata": {},
   "outputs": [
    {
     "name": "stderr",
     "output_type": "stream",
     "text": [
      "OMP: Info #271: omp_set_nested routine deprecated, please use omp_set_max_active_levels instead.\n"
     ]
    }
   ],
   "source": [
    "from fn_cfg import *\n",
    "import params as cfg"
   ]
  },
  {
   "cell_type": "code",
   "execution_count": 2,
   "metadata": {},
   "outputs": [],
   "source": [
    "filename = \"300uV_Threshold@0.1_10Hz.csv\"\n",
    "localPath_scans = \"/Users/joshuaighalo/Documents/BrainNet/Projects/Workspace/results/laurel place/quality scans/\"\n",
    "file_dir = localPath_scans+filename\n",
    "localPath_data = '/Users/joshuaighalo/Downloads/EEG_Datasets/laurel_place/cleaned_dataset'\n",
    "image_dest_dir = '/Users/joshuaighalo/Documents/BrainNet/Projects/Workspace/results/laurel place/images/grand_averages'\n",
    "version = 1.0\n",
    "disp = \"Cz\"\n",
    "cutoff_LP = [False,False]"
   ]
  },
  {
   "cell_type": "code",
   "execution_count": 3,
   "metadata": {},
   "outputs": [],
   "source": [
    "#   baseline scans for different dementia classes\n",
    "quality_scans = pd.read_csv(file_dir)"
   ]
  },
  {
   "cell_type": "code",
   "execution_count": 4,
   "metadata": {},
   "outputs": [],
   "source": [
    "base_ND = [x for x in (quality_scans['Baseline No Dementia'].to_numpy()) if str(x) != 'nan']\n",
    "base_MILD = [x for x in (quality_scans['Baseline Mild Dementia'].to_numpy()) if str(x) != 'nan']\n",
    "base_MODERATE = [x for x in (quality_scans['Baseline Moderate Dementia'].to_numpy()) if str(x) != 'nan']\n",
    "base_SEVERE = [x for x in (quality_scans['Baseline Severe Dementia'].to_numpy()) if str(x) != 'nan']"
   ]
  },
  {
   "cell_type": "code",
   "execution_count": 5,
   "metadata": {},
   "outputs": [],
   "source": [
    "four_ND = [x for x in (quality_scans['4-months No Dementia'].to_numpy()) if str(x) != 'nan']\n",
    "four_MILD = [x for x in (quality_scans['4-months Mild Dementia'].to_numpy()) if str(x) != 'nan']\n",
    "four_MODERATE = [x for x in (quality_scans['4-months Moderate Dementia'].to_numpy()) if str(x) != 'nan']\n",
    "four_SEVERE = [x for x in (quality_scans['4-months Severe Dementia'].to_numpy()) if str(x) != 'nan']"
   ]
  },
  {
   "cell_type": "code",
   "execution_count": 6,
   "metadata": {},
   "outputs": [],
   "source": [
    "eight_ND = [x for x in (quality_scans['8-months No Dementia'].to_numpy()) if str(x) != 'nan']\n",
    "eight_MILD = [x for x in (quality_scans['8-months Mild Dementia'].to_numpy()) if str(x) != 'nan']\n",
    "eight_MODERATE = [x for x in (quality_scans['8-months Moderate Dementia'].to_numpy()) if str(x) != 'nan']\n",
    "eight_SEVERE = [x for x in (quality_scans['8-months Severe Dementia'].to_numpy()) if str(x) != 'nan']"
   ]
  },
  {
   "cell_type": "code",
   "execution_count": 7,
   "metadata": {},
   "outputs": [
    {
     "name": "stdout",
     "output_type": "stream",
     "text": [
      "ERPs of Cognitive Impairment Classes @ Baseline\n",
      "No Dementia @ Baseline\n"
     ]
    },
    {
     "name": "stderr",
     "output_type": "stream",
     "text": [
      "/opt/anaconda3/lib/python3.9/site-packages/numpy/core/_asarray.py:102: VisibleDeprecationWarning: Creating an ndarray from ragged nested sequences (which is a list-or-tuple of lists-or-tuples-or ndarrays with different lengths or shapes) is deprecated. If you meant to do this, you must specify 'dtype=object' when creating the ndarray.\n",
      "  return array(a, dtype, copy=False, order=order)\n"
     ]
    },
    {
     "ename": "IndexError",
     "evalue": "list index out of range",
     "output_type": "error",
     "traceback": [
      "\u001b[0;31m---------------------------------------------------------------------------\u001b[0m",
      "\u001b[0;31mIndexError\u001b[0m                                Traceback (most recent call last)",
      "\u001b[0;32m/var/folders/ry/jhpq361x33g2tv7b7l6j0md80000gn/T/ipykernel_26697/2092704119.py\u001b[0m in \u001b[0;36m<module>\u001b[0;34m\u001b[0m\n\u001b[1;32m      1\u001b[0m \u001b[0mprint\u001b[0m\u001b[0;34m(\u001b[0m\u001b[0;34m\"ERPs of Cognitive Impairment Classes @ Baseline\"\u001b[0m\u001b[0;34m)\u001b[0m\u001b[0;34m\u001b[0m\u001b[0;34m\u001b[0m\u001b[0m\n\u001b[0;32m----> 2\u001b[0;31m \u001b[0merp_baseND\u001b[0m \u001b[0;34m=\u001b[0m \u001b[0maverageERPs\u001b[0m\u001b[0;34m(\u001b[0m\u001b[0mdevice_version\u001b[0m\u001b[0;34m=\u001b[0m\u001b[0mversion\u001b[0m\u001b[0;34m,\u001b[0m\u001b[0mscan_IDs\u001b[0m\u001b[0;34m=\u001b[0m\u001b[0mbase_ND\u001b[0m\u001b[0;34m,\u001b[0m\u001b[0mdispIMG_Channel\u001b[0m\u001b[0;34m=\u001b[0m\u001b[0mdisp\u001b[0m\u001b[0;34m,\u001b[0m\u001b[0mlocal_path\u001b[0m\u001b[0;34m=\u001b[0m\u001b[0mlocalPath_data\u001b[0m\u001b[0;34m,\u001b[0m\u001b[0mfs\u001b[0m\u001b[0;34m=\u001b[0m\u001b[0mcfg\u001b[0m\u001b[0;34m.\u001b[0m\u001b[0mfs\u001b[0m\u001b[0;34m,\u001b[0m\u001b[0mline\u001b[0m\u001b[0;34m=\u001b[0m\u001b[0mcfg\u001b[0m\u001b[0;34m.\u001b[0m\u001b[0mline\u001b[0m\u001b[0;34m,\u001b[0m\u001b[0mlowcut\u001b[0m\u001b[0;34m=\u001b[0m\u001b[0mcfg\u001b[0m\u001b[0;34m.\u001b[0m\u001b[0mhighPass\u001b[0m\u001b[0;34m,\u001b[0m\u001b[0mhighcut\u001b[0m\u001b[0;34m=\u001b[0m\u001b[0mcfg\u001b[0m\u001b[0;34m.\u001b[0m\u001b[0mlowPass\u001b[0m\u001b[0;34m,\u001b[0m\u001b[0mstimTrig\u001b[0m\u001b[0;34m=\u001b[0m\u001b[0mcfg\u001b[0m\u001b[0;34m.\u001b[0m\u001b[0mstimTrig\u001b[0m\u001b[0;34m,\u001b[0m\u001b[0mclip\u001b[0m\u001b[0;34m=\u001b[0m\u001b[0mcfg\u001b[0m\u001b[0;34m.\u001b[0m\u001b[0mclip\u001b[0m\u001b[0;34m,\u001b[0m\u001b[0mlowPassERP\u001b[0m\u001b[0;34m=\u001b[0m\u001b[0mcutoff_LP\u001b[0m\u001b[0;34m,\u001b[0m\u001b[0mlabel\u001b[0m\u001b[0;34m=\u001b[0m\u001b[0;34m\"No Dementia @ Baseline\"\u001b[0m\u001b[0;34m,\u001b[0m\u001b[0mimg_name\u001b[0m\u001b[0;34m=\u001b[0m\u001b[0;34m\"No Dementia @ Baseline\"\u001b[0m\u001b[0;34m,\u001b[0m\u001b[0mdestination_dir\u001b[0m\u001b[0;34m=\u001b[0m\u001b[0mimage_dest_dir\u001b[0m\u001b[0;34m)\u001b[0m\u001b[0;34m\u001b[0m\u001b[0;34m\u001b[0m\u001b[0m\n\u001b[0m\u001b[1;32m      3\u001b[0m \u001b[0merp_baseMILD\u001b[0m \u001b[0;34m=\u001b[0m \u001b[0maverageERPs\u001b[0m\u001b[0;34m(\u001b[0m\u001b[0mdevice_version\u001b[0m\u001b[0;34m=\u001b[0m\u001b[0mversion\u001b[0m\u001b[0;34m,\u001b[0m\u001b[0mscan_IDs\u001b[0m\u001b[0;34m=\u001b[0m\u001b[0mbase_MILD\u001b[0m\u001b[0;34m,\u001b[0m\u001b[0mdispIMG_Channel\u001b[0m\u001b[0;34m=\u001b[0m\u001b[0mdisp\u001b[0m\u001b[0;34m,\u001b[0m\u001b[0mlocal_path\u001b[0m\u001b[0;34m=\u001b[0m\u001b[0mlocalPath_data\u001b[0m\u001b[0;34m,\u001b[0m\u001b[0mfs\u001b[0m\u001b[0;34m=\u001b[0m\u001b[0mcfg\u001b[0m\u001b[0;34m.\u001b[0m\u001b[0mfs\u001b[0m\u001b[0;34m,\u001b[0m\u001b[0mline\u001b[0m\u001b[0;34m=\u001b[0m\u001b[0mcfg\u001b[0m\u001b[0;34m.\u001b[0m\u001b[0mline\u001b[0m\u001b[0;34m,\u001b[0m\u001b[0mlowcut\u001b[0m\u001b[0;34m=\u001b[0m\u001b[0mcfg\u001b[0m\u001b[0;34m.\u001b[0m\u001b[0mhighPass\u001b[0m\u001b[0;34m,\u001b[0m\u001b[0mhighcut\u001b[0m\u001b[0;34m=\u001b[0m\u001b[0mcfg\u001b[0m\u001b[0;34m.\u001b[0m\u001b[0mlowPass\u001b[0m\u001b[0;34m,\u001b[0m\u001b[0mstimTrig\u001b[0m\u001b[0;34m=\u001b[0m\u001b[0mcfg\u001b[0m\u001b[0;34m.\u001b[0m\u001b[0mstimTrig\u001b[0m\u001b[0;34m,\u001b[0m\u001b[0mclip\u001b[0m\u001b[0;34m=\u001b[0m\u001b[0mcfg\u001b[0m\u001b[0;34m.\u001b[0m\u001b[0mclip\u001b[0m\u001b[0;34m,\u001b[0m\u001b[0mlowPassERP\u001b[0m\u001b[0;34m=\u001b[0m\u001b[0mcutoff_LP\u001b[0m\u001b[0;34m,\u001b[0m\u001b[0mlabel\u001b[0m\u001b[0;34m=\u001b[0m\u001b[0;34m\"Mild Dementia @ Baseline\"\u001b[0m\u001b[0;34m,\u001b[0m\u001b[0mimg_name\u001b[0m\u001b[0;34m=\u001b[0m\u001b[0;34m\"Mild Dementia @ Baseline\"\u001b[0m\u001b[0;34m,\u001b[0m\u001b[0mdestination_dir\u001b[0m\u001b[0;34m=\u001b[0m\u001b[0mimage_dest_dir\u001b[0m\u001b[0;34m)\u001b[0m\u001b[0;34m\u001b[0m\u001b[0;34m\u001b[0m\u001b[0m\n\u001b[1;32m      4\u001b[0m \u001b[0merp_baseMODERATE\u001b[0m \u001b[0;34m=\u001b[0m \u001b[0maverageERPs\u001b[0m\u001b[0;34m(\u001b[0m\u001b[0mdevice_version\u001b[0m\u001b[0;34m=\u001b[0m\u001b[0mversion\u001b[0m\u001b[0;34m,\u001b[0m\u001b[0mscan_IDs\u001b[0m\u001b[0;34m=\u001b[0m\u001b[0mbase_MODERATE\u001b[0m\u001b[0;34m,\u001b[0m\u001b[0mdispIMG_Channel\u001b[0m\u001b[0;34m=\u001b[0m\u001b[0mdisp\u001b[0m\u001b[0;34m,\u001b[0m\u001b[0mlocal_path\u001b[0m\u001b[0;34m=\u001b[0m\u001b[0mlocalPath_data\u001b[0m\u001b[0;34m,\u001b[0m\u001b[0mfs\u001b[0m\u001b[0;34m=\u001b[0m\u001b[0mcfg\u001b[0m\u001b[0;34m.\u001b[0m\u001b[0mfs\u001b[0m\u001b[0;34m,\u001b[0m\u001b[0mline\u001b[0m\u001b[0;34m=\u001b[0m\u001b[0mcfg\u001b[0m\u001b[0;34m.\u001b[0m\u001b[0mline\u001b[0m\u001b[0;34m,\u001b[0m\u001b[0mlowcut\u001b[0m\u001b[0;34m=\u001b[0m\u001b[0mcfg\u001b[0m\u001b[0;34m.\u001b[0m\u001b[0mhighPass\u001b[0m\u001b[0;34m,\u001b[0m\u001b[0mhighcut\u001b[0m\u001b[0;34m=\u001b[0m\u001b[0mcfg\u001b[0m\u001b[0;34m.\u001b[0m\u001b[0mlowPass\u001b[0m\u001b[0;34m,\u001b[0m\u001b[0mstimTrig\u001b[0m\u001b[0;34m=\u001b[0m\u001b[0mcfg\u001b[0m\u001b[0;34m.\u001b[0m\u001b[0mstimTrig\u001b[0m\u001b[0;34m,\u001b[0m\u001b[0mclip\u001b[0m\u001b[0;34m=\u001b[0m\u001b[0mcfg\u001b[0m\u001b[0;34m.\u001b[0m\u001b[0mclip\u001b[0m\u001b[0;34m,\u001b[0m\u001b[0mlowPassERP\u001b[0m\u001b[0;34m=\u001b[0m\u001b[0mcutoff_LP\u001b[0m\u001b[0;34m,\u001b[0m\u001b[0mlabel\u001b[0m\u001b[0;34m=\u001b[0m\u001b[0;34m\"Moderate Dementia @ Baseline\"\u001b[0m\u001b[0;34m,\u001b[0m\u001b[0mimg_name\u001b[0m\u001b[0;34m=\u001b[0m\u001b[0;34m\"Moderate Dementia @ Baseline\"\u001b[0m\u001b[0;34m,\u001b[0m\u001b[0mdestination_dir\u001b[0m\u001b[0;34m=\u001b[0m\u001b[0mimage_dest_dir\u001b[0m\u001b[0;34m)\u001b[0m\u001b[0;34m\u001b[0m\u001b[0;34m\u001b[0m\u001b[0m\n\u001b[1;32m      5\u001b[0m \u001b[0merp_baseSEVERE\u001b[0m \u001b[0;34m=\u001b[0m \u001b[0maverageERPs\u001b[0m\u001b[0;34m(\u001b[0m\u001b[0mdevice_version\u001b[0m\u001b[0;34m=\u001b[0m\u001b[0mversion\u001b[0m\u001b[0;34m,\u001b[0m\u001b[0mscan_IDs\u001b[0m\u001b[0;34m=\u001b[0m\u001b[0mbase_SEVERE\u001b[0m\u001b[0;34m,\u001b[0m\u001b[0mdispIMG_Channel\u001b[0m\u001b[0;34m=\u001b[0m\u001b[0mdisp\u001b[0m\u001b[0;34m,\u001b[0m\u001b[0mlocal_path\u001b[0m\u001b[0;34m=\u001b[0m\u001b[0mlocalPath_data\u001b[0m\u001b[0;34m,\u001b[0m\u001b[0mfs\u001b[0m\u001b[0;34m=\u001b[0m\u001b[0mcfg\u001b[0m\u001b[0;34m.\u001b[0m\u001b[0mfs\u001b[0m\u001b[0;34m,\u001b[0m\u001b[0mline\u001b[0m\u001b[0;34m=\u001b[0m\u001b[0mcfg\u001b[0m\u001b[0;34m.\u001b[0m\u001b[0mline\u001b[0m\u001b[0;34m,\u001b[0m\u001b[0mlowcut\u001b[0m\u001b[0;34m=\u001b[0m\u001b[0mcfg\u001b[0m\u001b[0;34m.\u001b[0m\u001b[0mhighPass\u001b[0m\u001b[0;34m,\u001b[0m\u001b[0mhighcut\u001b[0m\u001b[0;34m=\u001b[0m\u001b[0mcfg\u001b[0m\u001b[0;34m.\u001b[0m\u001b[0mlowPass\u001b[0m\u001b[0;34m,\u001b[0m\u001b[0mstimTrig\u001b[0m\u001b[0;34m=\u001b[0m\u001b[0mcfg\u001b[0m\u001b[0;34m.\u001b[0m\u001b[0mstimTrig\u001b[0m\u001b[0;34m,\u001b[0m\u001b[0mclip\u001b[0m\u001b[0;34m=\u001b[0m\u001b[0mcfg\u001b[0m\u001b[0;34m.\u001b[0m\u001b[0mclip\u001b[0m\u001b[0;34m,\u001b[0m\u001b[0mlowPassERP\u001b[0m\u001b[0;34m=\u001b[0m\u001b[0mcutoff_LP\u001b[0m\u001b[0;34m,\u001b[0m\u001b[0mlabel\u001b[0m\u001b[0;34m=\u001b[0m\u001b[0;34m\"Severe Dementia @ Baseline\"\u001b[0m\u001b[0;34m,\u001b[0m\u001b[0mimg_name\u001b[0m\u001b[0;34m=\u001b[0m\u001b[0;34m\"Severe Dementia @ Baseline\"\u001b[0m\u001b[0;34m,\u001b[0m\u001b[0mdestination_dir\u001b[0m\u001b[0;34m=\u001b[0m\u001b[0mimage_dest_dir\u001b[0m\u001b[0;34m)\u001b[0m\u001b[0;34m\u001b[0m\u001b[0;34m\u001b[0m\u001b[0m\n",
      "\u001b[0;32m~/Documents/GitHub/Dementia-EEG-Analysis/fn_cfg.py\u001b[0m in \u001b[0;36maverageERPs\u001b[0;34m(device_version, scan_IDs, dispIMG_Channel, local_path, fs, line, lowcut, highcut, stimTrig, clip, lowPassERP, label, img_name, destination_dir)\u001b[0m\n\u001b[1;32m   1670\u001b[0m     \u001b[0mavgERP\u001b[0m \u001b[0;34m=\u001b[0m \u001b[0;34m[\u001b[0m\u001b[0;34m]\u001b[0m\u001b[0;34m\u001b[0m\u001b[0;34m\u001b[0m\u001b[0m\n\u001b[1;32m   1671\u001b[0m     \u001b[0;32mfor\u001b[0m \u001b[0mi\u001b[0m \u001b[0;32min\u001b[0m \u001b[0mrange\u001b[0m\u001b[0;34m(\u001b[0m\u001b[0mlen\u001b[0m\u001b[0;34m(\u001b[0m\u001b[0mscan_IDs\u001b[0m\u001b[0;34m)\u001b[0m\u001b[0;34m)\u001b[0m\u001b[0;34m:\u001b[0m\u001b[0;34m\u001b[0m\u001b[0;34m\u001b[0m\u001b[0m\n\u001b[0;32m-> 1672\u001b[0;31m         \u001b[0mavgERP\u001b[0m\u001b[0;34m.\u001b[0m\u001b[0mappend\u001b[0m\u001b[0;34m(\u001b[0m\u001b[0maverageProcessedEEG\u001b[0m\u001b[0;34m(\u001b[0m\u001b[0mdevice_version\u001b[0m\u001b[0;34m=\u001b[0m\u001b[0mdevice_version\u001b[0m\u001b[0;34m,\u001b[0m\u001b[0mscan_ID\u001b[0m\u001b[0;34m=\u001b[0m\u001b[0mscan_IDs\u001b[0m\u001b[0;34m[\u001b[0m\u001b[0mi\u001b[0m\u001b[0;34m]\u001b[0m\u001b[0;34m,\u001b[0m\u001b[0mlocal_path\u001b[0m\u001b[0;34m=\u001b[0m\u001b[0mlocal_path\u001b[0m\u001b[0;34m,\u001b[0m\u001b[0mfs\u001b[0m\u001b[0;34m=\u001b[0m\u001b[0mfs\u001b[0m\u001b[0;34m,\u001b[0m\u001b[0mline\u001b[0m\u001b[0;34m=\u001b[0m\u001b[0mline\u001b[0m\u001b[0;34m,\u001b[0m\u001b[0mlowcut\u001b[0m\u001b[0;34m=\u001b[0m\u001b[0mlowcut\u001b[0m\u001b[0;34m,\u001b[0m\u001b[0mhighcut\u001b[0m\u001b[0;34m=\u001b[0m\u001b[0mhighcut\u001b[0m\u001b[0;34m,\u001b[0m\u001b[0mstimTrig\u001b[0m\u001b[0;34m=\u001b[0m\u001b[0mstimTrig\u001b[0m\u001b[0;34m,\u001b[0m\u001b[0mclip\u001b[0m\u001b[0;34m=\u001b[0m\u001b[0mclip\u001b[0m\u001b[0;34m,\u001b[0m\u001b[0mlowPassERP\u001b[0m\u001b[0;34m=\u001b[0m\u001b[0mlowPassERP\u001b[0m\u001b[0;34m,\u001b[0m\u001b[0mdispIMG\u001b[0m\u001b[0;34m=\u001b[0m\u001b[0;32mFalse\u001b[0m\u001b[0;34m)\u001b[0m\u001b[0;34m)\u001b[0m\u001b[0;34m\u001b[0m\u001b[0;34m\u001b[0m\u001b[0m\n\u001b[0m\u001b[1;32m   1673\u001b[0m     \u001b[0mavg_ERP\u001b[0m \u001b[0;34m=\u001b[0m \u001b[0mnp\u001b[0m\u001b[0;34m.\u001b[0m\u001b[0marray\u001b[0m\u001b[0;34m(\u001b[0m\u001b[0mavgERP\u001b[0m\u001b[0;34m)\u001b[0m\u001b[0;34m\u001b[0m\u001b[0;34m\u001b[0m\u001b[0m\n\u001b[1;32m   1674\u001b[0m     \u001b[0mavgERP\u001b[0m \u001b[0;34m=\u001b[0m \u001b[0mnp\u001b[0m\u001b[0;34m.\u001b[0m\u001b[0mmean\u001b[0m\u001b[0;34m(\u001b[0m\u001b[0mavg_ERP\u001b[0m\u001b[0;34m,\u001b[0m\u001b[0maxis\u001b[0m\u001b[0;34m=\u001b[0m\u001b[0;36m0\u001b[0m\u001b[0;34m)\u001b[0m\u001b[0;34m\u001b[0m\u001b[0;34m\u001b[0m\u001b[0m\n",
      "\u001b[0;32m~/Documents/GitHub/Dementia-EEG-Analysis/fn_cfg.py\u001b[0m in \u001b[0;36maverageProcessedEEG\u001b[0;34m(device_version, scan_ID, local_path, fs, line, lowcut, highcut, stimTrig, clip, lowPassERP, dispIMG)\u001b[0m\n\u001b[1;32m   1645\u001b[0m         \u001b[0mN1P3_Fz\u001b[0m\u001b[0;34m,\u001b[0m\u001b[0mN1P3_Cz\u001b[0m\u001b[0;34m,\u001b[0m\u001b[0mN1P3_Pz\u001b[0m\u001b[0;34m,\u001b[0m\u001b[0mN4_Fz\u001b[0m\u001b[0;34m,\u001b[0m\u001b[0mN4_Cz\u001b[0m\u001b[0;34m,\u001b[0m\u001b[0mN4_Pz\u001b[0m \u001b[0;34m=\u001b[0m \u001b[0mN1P3\u001b[0m\u001b[0;34m[\u001b[0m\u001b[0;36m0\u001b[0m\u001b[0;34m]\u001b[0m\u001b[0;34m,\u001b[0m\u001b[0mN1P3\u001b[0m\u001b[0;34m[\u001b[0m\u001b[0;36m1\u001b[0m\u001b[0;34m]\u001b[0m\u001b[0;34m,\u001b[0m\u001b[0mN1P3\u001b[0m\u001b[0;34m[\u001b[0m\u001b[0;36m2\u001b[0m\u001b[0;34m]\u001b[0m\u001b[0;34m,\u001b[0m\u001b[0mN4\u001b[0m\u001b[0;34m[\u001b[0m\u001b[0;36m0\u001b[0m\u001b[0;34m]\u001b[0m\u001b[0;34m,\u001b[0m\u001b[0mN4\u001b[0m\u001b[0;34m[\u001b[0m\u001b[0;36m1\u001b[0m\u001b[0;34m]\u001b[0m\u001b[0;34m,\u001b[0m\u001b[0mN4\u001b[0m\u001b[0;34m[\u001b[0m\u001b[0;36m2\u001b[0m\u001b[0;34m]\u001b[0m\u001b[0;34m\u001b[0m\u001b[0;34m\u001b[0m\u001b[0m\n\u001b[1;32m   1646\u001b[0m         \u001b[0merp_latency\u001b[0m \u001b[0;34m=\u001b[0m \u001b[0mnp\u001b[0m\u001b[0;34m.\u001b[0m\u001b[0marray\u001b[0m\u001b[0;34m(\u001b[0m\u001b[0mnp\u001b[0m\u001b[0;34m.\u001b[0m\u001b[0mlinspace\u001b[0m\u001b[0;34m(\u001b[0m\u001b[0mstart\u001b[0m\u001b[0;34m=\u001b[0m\u001b[0;34m-\u001b[0m\u001b[0;36m100\u001b[0m\u001b[0;34m,\u001b[0m \u001b[0mstop\u001b[0m\u001b[0;34m=\u001b[0m\u001b[0;36m900\u001b[0m\u001b[0;34m,\u001b[0m \u001b[0mnum\u001b[0m\u001b[0;34m=\u001b[0m\u001b[0mlen\u001b[0m\u001b[0;34m(\u001b[0m\u001b[0mN1P3_Fz\u001b[0m\u001b[0;34m[\u001b[0m\u001b[0;36m0\u001b[0m\u001b[0;34m]\u001b[0m\u001b[0;34m)\u001b[0m\u001b[0;34m,\u001b[0m\u001b[0mdtype\u001b[0m\u001b[0;34m=\u001b[0m\u001b[0mobject\u001b[0m\u001b[0;34m)\u001b[0m\u001b[0;34m,\u001b[0m\u001b[0mdtype\u001b[0m\u001b[0;34m=\u001b[0m\u001b[0mobject\u001b[0m\u001b[0;34m)\u001b[0m\u001b[0;34m\u001b[0m\u001b[0;34m\u001b[0m\u001b[0m\n\u001b[0;32m-> 1647\u001b[0;31m         \u001b[0mcutoff\u001b[0m \u001b[0;34m=\u001b[0m \u001b[0mlowPassERP\u001b[0m\u001b[0;34m[\u001b[0m\u001b[0;36m1\u001b[0m\u001b[0;34m]\u001b[0m\u001b[0;34m\u001b[0m\u001b[0;34m\u001b[0m\u001b[0m\n\u001b[0m\u001b[1;32m   1648\u001b[0m         \u001b[0;32mif\u001b[0m \u001b[0mlowPassERP\u001b[0m\u001b[0;34m==\u001b[0m\u001b[0;34m[\u001b[0m\u001b[0;32mTrue\u001b[0m\u001b[0;34m,\u001b[0m\u001b[0mcutoff\u001b[0m\u001b[0;34m]\u001b[0m\u001b[0;34m:\u001b[0m\u001b[0;34m\u001b[0m\u001b[0;34m\u001b[0m\u001b[0m\n\u001b[1;32m   1649\u001b[0m             \u001b[0mstd_Fz\u001b[0m \u001b[0;34m=\u001b[0m \u001b[0mfiltering\u001b[0m\u001b[0;34m.\u001b[0m\u001b[0mbutter_lowpass\u001b[0m\u001b[0;34m(\u001b[0m\u001b[0mN1P3_Fz\u001b[0m\u001b[0;34m[\u001b[0m\u001b[0;36m0\u001b[0m\u001b[0;34m]\u001b[0m\u001b[0;34m,\u001b[0m\u001b[0mcutoff\u001b[0m\u001b[0;34m=\u001b[0m\u001b[0mcutoff\u001b[0m\u001b[0;34m,\u001b[0m\u001b[0mfs\u001b[0m\u001b[0;34m=\u001b[0m\u001b[0mfs\u001b[0m\u001b[0;34m,\u001b[0m\u001b[0morder\u001b[0m\u001b[0;34m=\u001b[0m\u001b[0;36m4\u001b[0m\u001b[0;34m)\u001b[0m\u001b[0;34m\u001b[0m\u001b[0;34m\u001b[0m\u001b[0m\n",
      "\u001b[0;31mIndexError\u001b[0m: list index out of range"
     ]
    }
   ],
   "source": [
    "print(\"ERPs of Cognitive Impairment Classes @ Baseline\")\n",
    "erp_baseND = averageERPs(device_version=version,scan_IDs=base_ND,dispIMG_Channel=disp,local_path=localPath_data,fs=cfg.fs,line=cfg.line,lowcut=cfg.highPass,highcut=cfg.lowPass,stimTrig=cfg.stimTrig,clip=cfg.clip,lowPassERP=cutoff_LP,label=\"No Dementia @ Baseline\",img_name=\"No Dementia @ Baseline\",destination_dir=image_dest_dir)\n",
    "erp_baseMILD = averageERPs(device_version=version,scan_IDs=base_MILD,dispIMG_Channel=disp,local_path=localPath_data,fs=cfg.fs,line=cfg.line,lowcut=cfg.highPass,highcut=cfg.lowPass,stimTrig=cfg.stimTrig,clip=cfg.clip,lowPassERP=cutoff_LP,label=\"Mild Dementia @ Baseline\",img_name=\"Mild Dementia @ Baseline\",destination_dir=image_dest_dir)\n",
    "erp_baseMODERATE = averageERPs(device_version=version,scan_IDs=base_MODERATE,dispIMG_Channel=disp,local_path=localPath_data,fs=cfg.fs,line=cfg.line,lowcut=cfg.highPass,highcut=cfg.lowPass,stimTrig=cfg.stimTrig,clip=cfg.clip,lowPassERP=cutoff_LP,label=\"Moderate Dementia @ Baseline\",img_name=\"Moderate Dementia @ Baseline\",destination_dir=image_dest_dir)\n",
    "erp_baseSEVERE = averageERPs(device_version=version,scan_IDs=base_SEVERE,dispIMG_Channel=disp,local_path=localPath_data,fs=cfg.fs,line=cfg.line,lowcut=cfg.highPass,highcut=cfg.lowPass,stimTrig=cfg.stimTrig,clip=cfg.clip,lowPassERP=cutoff_LP,label=\"Severe Dementia @ Baseline\",img_name=\"Severe Dementia @ Baseline\",destination_dir=image_dest_dir)\n"
   ]
  },
  {
   "cell_type": "code",
   "execution_count": null,
   "metadata": {},
   "outputs": [],
   "source": [
    "print(\"ERPs of Cognitive Impairment Classes @ 4-months\")\n",
    "erp_FourND = averageERPs(device_version=version,scan_IDs=four_ND,dispIMG_Channel=disp,local_path=localPath_data,fs=cfg.fs,line=cfg.line,lowcut=cfg.highPass,highcut=cfg.lowPass,stimTrig=cfg.stimTrig,clip=cfg.clip,lowPassERP=cutoff_LP,label=\"No Dementia @ 4-months\",img_name=\"No Dementia @ 4-months\",destination_dir=image_dest_dir)\n",
    "erp_FourMILD = averageERPs(device_version=version,scan_IDs=four_MILD,dispIMG_Channel=disp,local_path=localPath_data,fs=cfg.fs,line=cfg.line,lowcut=cfg.highPass,highcut=cfg.lowPass,stimTrig=cfg.stimTrig,clip=cfg.clip,lowPassERP=cutoff_LP,label=\"Mild Dementia @ 4-months\",img_name=\"Mild Dementia @ 4-months\",destination_dir=image_dest_dir)\n",
    "erp_FourMODERATE = averageERPs(device_version=version,scan_IDs=four_MODERATE,dispIMG_Channel=disp,local_path=localPath_data,fs=cfg.fs,line=cfg.line,lowcut=cfg.highPass,highcut=cfg.lowPass,stimTrig=cfg.stimTrig,clip=cfg.clip,lowPassERP=cutoff_LP,label=\"Moderate Dementia @ 4-months\",img_name=\"Moderate Dementia @ 4-months\",destination_dir=image_dest_dir)\n",
    "erp_FourSEVERE = averageERPs(device_version=version,scan_IDs=four_SEVERE,dispIMG_Channel=disp,local_path=localPath_data,fs=cfg.fs,line=cfg.line,lowcut=cfg.highPass,highcut=cfg.lowPass,stimTrig=cfg.stimTrig,clip=cfg.clip,lowPassERP=cutoff_LP,label=\"Severe Dementia @ 4-months\",img_name=\"Severe Dementia @ 4-months\",destination_dir=image_dest_dir)"
   ]
  },
  {
   "cell_type": "code",
   "execution_count": null,
   "metadata": {},
   "outputs": [],
   "source": [
    "print(\"ERPs of Cognitive Impairment Classes @ 8-months\")\n",
    "erp_EightND = averageERPs(device_version=version,scan_IDs=eight_ND,dispIMG_Channel=disp,local_path=localPath_data,fs=cfg.fs,line=cfg.line,lowcut=cfg.highPass,highcut=cfg.lowPass,stimTrig=cfg.stimTrig,clip=cfg.clip,lowPassERP=cutoff_LP,label=\"No Dementia @ 8-months\",img_name=\"No Dementia @ 8-months\",destination_dir=image_dest_dir)\n",
    "erp_EightMILD = averageERPs(device_version=version,scan_IDs=eight_MILD,dispIMG_Channel=disp,local_path=localPath_data,fs=cfg.fs,line=cfg.line,lowcut=cfg.highPass,highcut=cfg.lowPass,stimTrig=cfg.stimTrig,clip=cfg.clip,lowPassERP=cutoff_LP,label=\"Mild Dementia @ 8-months\",img_name=\"Mild Dementia @ 8-months\",destination_dir=image_dest_dir)\n",
    "erp_EightMODERATE = averageERPs(device_version=version,scan_IDs=eight_MODERATE,dispIMG_Channel=disp,local_path=localPath_data,fs=cfg.fs,line=cfg.line,lowcut=cfg.highPass,highcut=cfg.lowPass,stimTrig=cfg.stimTrig,clip=cfg.clip,lowPassERP=cutoff_LP,label=\"Moderate Dementia @ 8-months\",img_name=\"Moderate Dementia @ 8-months\",destination_dir=image_dest_dir)\n",
    "erp_EightSEVERE = averageERPs(device_version=version,scan_IDs=eight_SEVERE,dispIMG_Channel=disp,local_path=localPath_data,fs=cfg.fs,line=cfg.line,lowcut=cfg.highPass,highcut=cfg.lowPass,stimTrig=cfg.stimTrig,clip=cfg.clip,lowPassERP=cutoff_LP,label=\"Severe Dementia @ 8-months\",img_name=\"Severe Dementia @ 8-months\",destination_dir=image_dest_dir)"
   ]
  }
 ],
 "metadata": {
  "kernelspec": {
   "display_name": "Python 3.9.7 ('base')",
   "language": "python",
   "name": "python3"
  },
  "language_info": {
   "codemirror_mode": {
    "name": "ipython",
    "version": 3
   },
   "file_extension": ".py",
   "mimetype": "text/x-python",
   "name": "python",
   "nbconvert_exporter": "python",
   "pygments_lexer": "ipython3",
   "version": "3.9.7"
  },
  "orig_nbformat": 4,
  "vscode": {
   "interpreter": {
    "hash": "40d3a090f54c6569ab1632332b64b2c03c39dcf918b08424e98f38b5ae0af88f"
   }
  }
 },
 "nbformat": 4,
 "nbformat_minor": 2
}
