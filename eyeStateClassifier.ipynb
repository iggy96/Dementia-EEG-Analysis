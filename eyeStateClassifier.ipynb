{
 "cells": [
  {
   "cell_type": "code",
   "execution_count": null,
   "metadata": {},
   "outputs": [],
   "source": [
    "from fn_cfg import *\n",
    "import params as cfg\n",
    "from sklearn.model_selection import train_test_split,cross_val_score\n",
    "from sklearn.svm import SVC\n",
    "from sklearn.preprocessing import StandardScaler\n",
    "from sklearn.metrics import accuracy_score\n",
    "from sklearn.decomposition import PCA\n",
    "import joblib"
   ]
  },
  {
   "cell_type": "code",
   "execution_count": null,
   "metadata": {},
   "outputs": [],
   "source": [
    "#dataset = pd.read_csv('/Users/joshuaighalo/Documents/BrainNet/Projects/Workspace/results/laurel place/ml_dataset/eye_status_20s.csv')\n",
    "#dataset = pd.read_csv('/Users/joshuaighalo/Documents/BrainNet/Projects/Workspace/results/laurel place/ml_dataset/eye_status_30s.csv')\n",
    "dataset = pd.read_csv('/Users/joshuaighalo/Documents/BrainNet/Projects/Workspace/results/laurel place/ml_dataset/eye_status_10s.csv')\n",
    "X = dataset.drop('eye_status', 1)\n",
    "y = dataset['eye_status'].array"
   ]
  },
  {
   "cell_type": "code",
   "execution_count": null,
   "metadata": {},
   "outputs": [],
   "source": [
    "scaler = StandardScaler()\n",
    "X_scaled = scaler.fit_transform(X)"
   ]
  },
  {
   "cell_type": "code",
   "execution_count": null,
   "metadata": {},
   "outputs": [],
   "source": [
    "pca = PCA()\n",
    "dfx_pca = pca.fit(X_scaled)\n",
    "explained_variance = pca.explained_variance_ratio_\n",
    "idx = np.where(explained_variance > 0.05)[0]\n",
    "print(X.columns.values[idx])\n",
    "X_scaled = X_scaled[:,idx]"
   ]
  },
  {
   "cell_type": "code",
   "execution_count": null,
   "metadata": {},
   "outputs": [],
   "source": [
    "X_train, X_test, y_train, y_test = train_test_split(X_scaled, y, test_size=0.33)"
   ]
  },
  {
   "cell_type": "code",
   "execution_count": null,
   "metadata": {},
   "outputs": [],
   "source": [
    "#SVM\n",
    "from scipy.stats import randint as sp_randint\n",
    "from sklearn.model_selection import RandomizedSearchCV\n",
    "rf_params = {\n",
    "    'C': stats.uniform(0,50),\n",
    "    \"kernel\":['linear','poly','rbf','sigmoid'],\n",
    "    \"degree\": np.arange(1,7,1)\n",
    "}\n",
    "n_iter_search=20\n",
    "clf = SVC(gamma='scale')\n",
    "Random = RandomizedSearchCV(clf, param_distributions=rf_params,n_iter=n_iter_search,cv=3,scoring='accuracy')\n",
    "Random.fit(X_train, y_train)\n",
    "print(Random.best_estimator_)\n",
    "print(\"Accuracy:\"+ str(Random.best_score_))"
   ]
  },
  {
   "cell_type": "code",
   "execution_count": null,
   "metadata": {},
   "outputs": [],
   "source": [
    "Random.best_estimator_.fit(X_train, y_train)"
   ]
  },
  {
   "cell_type": "code",
   "execution_count": null,
   "metadata": {},
   "outputs": [],
   "source": [
    "# save the model to disk\n",
    "filename = 'best_SVC_model.sav'\n",
    "joblib.dump(Random.best_estimator_, filename)\n",
    "\n",
    "# load the model from disk\n",
    "loaded_model = joblib.load(filename)\n",
    "result = loaded_model.score(X_test, y_test)"
   ]
  },
  {
   "cell_type": "code",
   "execution_count": null,
   "metadata": {},
   "outputs": [],
   "source": [
    "#y_pred = Random.best_estimator_.predict(X_train)\n",
    "y_pred = loaded_model.predict(X_train)\n",
    "mse = mean_squared_error(y_train, y_pred)\n",
    "np.sqrt(mse)"
   ]
  },
  {
   "cell_type": "code",
   "execution_count": null,
   "metadata": {},
   "outputs": [],
   "source": [
    "y_pred = loaded_model.predict(X_test)\n",
    "mse = mean_squared_error(y_test, y_pred)\n",
    "np.sqrt(mse)\n",
    "accuracy_score(y_test, y_pred)"
   ]
  },
  {
   "cell_type": "code",
   "execution_count": null,
   "metadata": {},
   "outputs": [],
   "source": [
    "def averageProcessedEEG(device_version,scan_ID,local_path,fs,line,lowcut,highcut):\n",
    "    device = importFile.neurocatch()\n",
    "    fileObjects = device.init(device_version,scan_ID,local_path,dispIMG=False)\n",
    "    rawEEG = fileObjects[0]\n",
    "    rawEOG = fileObjects[1]\n",
    "    filtering = filters()\n",
    "    adaptiveFilterOutput = filtering.adaptive(rawEEG,rawEOG)\n",
    "    notchFilterOutput = filtering.notch(adaptiveFilterOutput,line,fs)\n",
    "    bandPassFilterOutput = filtering.butterBandPass(notchFilterOutput,lowcut,highcut,fs)[:,1]\n",
    "    windowEEG = slidingWindow(bandPassFilterOutput,5000,5000)\n",
    "    return windowEEG\n",
    "\n",
    "\n",
    "filename = \"No_Threshold.csv\"\n",
    "device_version = 1.0\n",
    "lowcut = cfg.highPass\n",
    "highcut = cfg.lowPass\n",
    "sfreq = cfg.fs\n",
    "localPath_scans = \"/Users/joshuaighalo/Documents/BrainNet/Projects/Workspace/results/laurel place/quality scans/\"\n",
    "file_dir = localPath_scans+filename\n",
    "quality_scans = pd.read_csv(file_dir)\n",
    "base_ND = [x for x in (quality_scans['Baseline No Dementia'].to_numpy()) if str(x) != 'nan']\n",
    "\n",
    "\n",
    "scans_windowEEG = []\n",
    "for i in range(len(base_ND)):\n",
    "    scan_ID = base_ND[i]\n",
    "    windowEEG = averageProcessedEEG(device_version,scan_ID,localPath_scans,sfreq,line,lowcut,highcut)\n",
    "    scans_windowEEG.append(windowEEG)"
   ]
  },
  {
   "cell_type": "code",
   "execution_count": null,
   "metadata": {},
   "outputs": [],
   "source": [
    "def featureExtraction(data):\n",
    "    filtering = filters()\n",
    "    delta_rhythms = filtering.butterBandPass(data,0.5,4,fs)\n",
    "    theta_rhythms = filtering.butterBandPass(data,4,8,fs)\n",
    "    alpha_rhythms = filtering.butterBandPass(data,8,13,fs)\n",
    "    beta_rhythms = filtering.butterBandPass(data,13,32,fs)\n",
    "    gamma_rhythms = filtering.butterBandPass(data,32,79,fs)\n",
    "\n",
    "    std_delta_rhythms = np.std(delta_rhythms,axis=0)\n",
    "    std_theta_rhythms = np.std(theta_rhythms,axis=0)\n",
    "    std_alpha_rhythms = np.std(alpha_rhythms,axis=0)\n",
    "    std_beta_rhythms = np.std(beta_rhythms,axis=0)\n",
    "    std_gamma_rhythms = np.std(gamma_rhythms,axis=0)\n",
    "\n",
    "    rms_delta_rhythms = np.sqrt(np.mean(delta_rhythms**2))\n",
    "    rms_theta_rhythms = np.sqrt(np.mean(theta_rhythms**2))\n",
    "    rms_alpha_rhythms = np.sqrt(np.mean(alpha_rhythms**2))\n",
    "    rms_beta_rhythms = np.sqrt(np.mean(beta_rhythms**2))\n",
    "    rms_gamma_rhythms = np.sqrt(np.mean(gamma_rhythms**2))\n",
    "\n",
    "    var_delta_rhythms = np.var(delta_rhythms,axis=0)\n",
    "    var_theta_rhythms = np.var(theta_rhythms,axis=0)\n",
    "    var_alpha_rhythms = np.var(alpha_rhythms,axis=0)\n",
    "    var_beta_rhythms = np.var(beta_rhythms,axis=0)\n",
    "    var_gamma_rhythms = np.var(gamma_rhythms,axis=0)\n",
    "\n",
    "    kurtosis_delta_rhythms = stats.kurtosis(delta_rhythms,axis=0)\n",
    "    kurtosis_theta_rhythms = stats.kurtosis(theta_rhythms,axis=0)\n",
    "    kurtosis_alpha_rhythms = stats.kurtosis(alpha_rhythms,axis=0)\n",
    "    kurtosis_beta_rhythms = stats.kurtosis(beta_rhythms,axis=0)\n",
    "    kurtosis_gamma_rhythms = stats.kurtosis(gamma_rhythms,axis=0)\n",
    "    #features = np.vstack((std_delta_rhythms,std_theta_rhythms,std_alpha_rhythms,std_beta_rhythms,std_gamma_rhythms,rms_delta_rhythms,rms_theta_rhythms,rms_alpha_rhythms,rms_beta_rhythms,rms_gamma_rhythms,var_delta_rhythms,var_theta_rhythms,var_alpha_rhythms,var_beta_rhythms,var_gamma_rhythms,kurtosis_delta_rhythms,kurtosis_theta_rhythms,kurtosis_alpha_rhythms,kurtosis_beta_rhythms,kurtosis_gamma_rhythms)).T\n",
    "    features = [std_delta_rhythms,std_theta_rhythms,std_alpha_rhythms,std_beta_rhythms,std_gamma_rhythms,rms_delta_rhythms,rms_theta_rhythms,rms_alpha_rhythms,rms_beta_rhythms,rms_gamma_rhythms,var_delta_rhythms,var_theta_rhythms,var_alpha_rhythms,var_beta_rhythms,var_gamma_rhythms,kurtosis_delta_rhythms,kurtosis_theta_rhythms,kurtosis_alpha_rhythms,kurtosis_beta_rhythms,kurtosis_gamma_rhythms]\n",
    "    return features\n",
    "\n",
    "\n",
    "features = []\n",
    "for i in range(len(allEEG_EO)):\n",
    "    features.append(featureExtraction(allEEG_EO[i]))"
   ]
  }
 ],
 "metadata": {
  "kernelspec": {
   "display_name": "Python 3.9.13 ('base')",
   "language": "python",
   "name": "python3"
  },
  "language_info": {
   "codemirror_mode": {
    "name": "ipython",
    "version": 3
   },
   "file_extension": ".py",
   "mimetype": "text/x-python",
   "name": "python",
   "nbconvert_exporter": "python",
   "pygments_lexer": "ipython3",
   "version": "3.9.13"
  },
  "orig_nbformat": 4,
  "vscode": {
   "interpreter": {
    "hash": "40d3a090f54c6569ab1632332b64b2c03c39dcf918b08424e98f38b5ae0af88f"
   }
  }
 },
 "nbformat": 4,
 "nbformat_minor": 2
}
