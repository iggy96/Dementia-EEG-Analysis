{
 "cells": [
  {
   "cell_type": "code",
   "execution_count": 1,
   "metadata": {},
   "outputs": [],
   "source": [
    "from fn_cfg import *\n",
    "import params as cfg\n",
    "import tensorflow as tf\n",
    "from sklearn.model_selection import train_test_split\n",
    "from sklearn.preprocessing import StandardScaler\n",
    "from sklearn.metrics import confusion_matrix, accuracy_score\n",
    "from sklearn.decomposition import PCA\n",
    "import joblib"
   ]
  },
  {
   "cell_type": "code",
   "execution_count": 2,
   "metadata": {},
   "outputs": [
    {
     "name": "stderr",
     "output_type": "stream",
     "text": [
      "/var/folders/ry/jhpq361x33g2tv7b7l6j0md80000gn/T/ipykernel_26005/3062680911.py:4: FutureWarning: In a future version of pandas all arguments of DataFrame.drop except for the argument 'labels' will be keyword-only\n",
      "  X = dataset.drop('eye_status', 1)\n"
     ]
    }
   ],
   "source": [
    "#dataset = pd.read_csv('/Users/joshuaighalo/Documents/BrainNet/Projects/Workspace/results/laurel place/ml_dataset/eye_status_20s.csv')\n",
    "#dataset = pd.read_csv('/Users/joshuaighalo/Documents/BrainNet/Projects/Workspace/results/laurel place/ml_dataset/eye_status_30s.csv')\n",
    "dataset = pd.read_csv('/Users/joshuaighalo/Documents/BrainNet/Projects/Workspace/results/laurel place/ml_dataset/eye_status_10s.csv')\n",
    "X = dataset.drop('eye_status', 1)\n",
    "y = dataset['eye_status'].array"
   ]
  },
  {
   "cell_type": "code",
   "execution_count": 3,
   "metadata": {},
   "outputs": [],
   "source": [
    "scaler = StandardScaler()\n",
    "X_scaled = scaler.fit_transform(X)"
   ]
  },
  {
   "cell_type": "code",
   "execution_count": 4,
   "metadata": {},
   "outputs": [
    {
     "name": "stdout",
     "output_type": "stream",
     "text": [
      "[4.25147932e-01 1.81257137e-01 1.09932258e-01 8.14137382e-02\n",
      " 4.66474946e-02 3.57008967e-02 3.47149909e-02 2.36689957e-02\n",
      " 1.95671661e-02 1.29694299e-02 1.09081428e-02 9.50720648e-03\n",
      " 4.95976469e-03 1.99975836e-03 1.60346990e-03 1.61685116e-06\n",
      " 9.99941308e-10 1.57971457e-10 3.55778445e-11 1.86504064e-12]\n",
      "['std_delta']\n"
     ]
    }
   ],
   "source": [
    "pca = PCA()\n",
    "dfx_pca = pca.fit(X_scaled)\n",
    "explained_variance = pca.explained_variance_ratio_\n",
    "print(explained_variance)\n",
    "idx = np.where(explained_variance > 0.1)[0]\n",
    "print(X.columns.values[idx])\n",
    "X_pca = X_scaled[:,idx]\n",
    "\n",
    "X_train, X_test, y_train, y_test = train_test_split(X_pca, y, test_size=0.20)\n",
    "\n",
    "print(X_train.shape, X_test.shape)\n",
    "print(y_train.shape, y_test.shape)\n",
    "\n",
    "# Data Scaling/normalization of the features that will go to the NN\n",
    "sc = StandardScaler()\n",
    "X_train = sc.fit_transform(X_train)\n",
    "X_test = sc.transform(X_test)\n",
    "\n",
    "\n",
    "#----------------------- Building the model -----------------------#\n",
    "\n",
    "# Initializing the ANN by calling the Sequential class fromm keras of Tensorflow\n",
    "ann = tf.keras.models.Sequential()\n",
    "\n",
    "#----------------------------------------------------------------------------------\n",
    "# Adding \"fully connected\" INPUT layer to the Sequential ANN by calling Dense class\n",
    "#----------------------------------------------------------------------------------\n",
    "# Number of Units = 6 and Activation Function = Rectifier\n",
    "ann.add(tf.keras.layers.Dense(units = 6, activation = 'relu'))\n",
    "\n",
    "\n",
    "#----------------------------------------------------------------------------------\n",
    "# Adding \"fully connected\" SECOND layer to the Sequential AMM by calling Dense class\n",
    "#----------------------------------------------------------------------------------\n",
    "# Number of Units = 6 and Activation Function = Rectifier\n",
    "ann.add(tf.keras.layers.Dense(units = 6, activation = 'relu'))\n",
    "\n",
    "\n",
    "#----------------------------------------------------------------------------------\n",
    "# Adding \"fully connected\" OUTPUT layer to the Sequential ANN by calling Dense class\n",
    "#----------------------------------------------------------------------------------\n",
    "# Number of Units = 1 and Activation Function = Sigmoid\n",
    "ann.add(tf.keras.layers.Dense(units = 1, activation = 'sigmoid'))\n",
    "\n",
    "#----------------------- Training the model -----------------------#\n",
    "# Compiling the ANN\n",
    "# Type of Optimizer = Adam Optimizer, Loss Function =  crossentropy for binary dependent variable, and Optimization is done w.r.t. accuracy\n",
    "ann.compile(optimizer = 'adam', loss = 'binary_crossentropy', metrics = ['accuracy'])\n",
    "\n",
    "# Training the ANN model on training set  (fit method always the same)\n",
    "# batch_size = 32, the default value, number of epochs  = 100\n",
    "ann.fit(X_train, y_train, batch_size = 32, epochs = 100)\n",
    "\n",
    "#show the vector of predictions and real values\n",
    "#probabilities\n",
    "y_pred_prob = ann.predict(X_test)\n",
    "\n",
    "#probabilities to binary\n",
    "y_pred = (y_pred_prob > 0.5)\n",
    "print(np.concatenate((y_pred.reshape(len(y_pred),1), y_test.reshape(len(y_test),1)), 1))\n",
    "\n",
    "#Confusion Matrix\n",
    "confusion_matrix = confusion_matrix(y_test, y_pred)\n",
    "print(\"Confusion Matrix\", confusion_matrix)\n",
    "print(\"Accuracy Score\", accuracy_score(y_test, y_pred))"
   ]
  },
  {
   "cell_type": "code",
   "execution_count": 5,
   "metadata": {},
   "outputs": [],
   "source": [
    "X_train, X_test, y_train, y_test = train_test_split(X, y, test_size=0.20)\n",
    "print(X_train.shape, X_test.shape)\n",
    "print(y_train.shape, y_test.shape)\n",
    "\n",
    "# Data Scaling/normalization of the features that will go to the NN\n",
    "sc = StandardScaler()\n",
    "X_train = sc.fit_transform(X_train)\n",
    "X_test = sc.transform(X_test)\n",
    "\n",
    "\n",
    "#----------------------- Building the model -----------------------#\n",
    "\n",
    "# Initializing the ANN by calling the Sequential class fromm keras of Tensorflow\n",
    "ann = tf.keras.models.Sequential()\n",
    "\n",
    "#----------------------------------------------------------------------------------\n",
    "# Adding \"fully connected\" INPUT layer to the Sequential ANN by calling Dense class\n",
    "#----------------------------------------------------------------------------------\n",
    "# Number of Units = 6 and Activation Function = Rectifier\n",
    "ann.add(tf.keras.layers.Dense(units = 6, activation = 'relu'))\n",
    "\n",
    "\n",
    "#----------------------------------------------------------------------------------\n",
    "# Adding \"fully connected\" SECOND layer to the Sequential AMM by calling Dense class\n",
    "#----------------------------------------------------------------------------------\n",
    "# Number of Units = 6 and Activation Function = Rectifier\n",
    "ann.add(tf.keras.layers.Dense(units = 6, activation = 'relu'))\n",
    "\n",
    "\n",
    "#----------------------------------------------------------------------------------\n",
    "# Adding \"fully connected\" OUTPUT layer to the Sequential ANN by calling Dense class\n",
    "#----------------------------------------------------------------------------------\n",
    "# Number of Units = 1 and Activation Function = Sigmoid\n",
    "ann.add(tf.keras.layers.Dense(units = 1, activation = 'sigmoid'))\n",
    "\n",
    "#----------------------- Training the model -----------------------#\n",
    "# Compiling the ANN\n",
    "# Type of Optimizer = Adam Optimizer, Loss Function =  crossentropy for binary dependent variable, and Optimization is done w.r.t. accuracy\n",
    "ann.compile(optimizer = 'adam', loss = 'binary_crossentropy', metrics = ['accuracy'])\n",
    "\n",
    "# Training the ANN model on training set  (fit method always the same)\n",
    "# batch_size = 32, the default value, number of epochs  = 100\n",
    "ann.fit(X_train, y_train, batch_size = 32, epochs = 100)\n",
    "\n",
    "#show the vector of predictions and real values\n",
    "#probabilities\n",
    "y_pred_prob = ann.predict(X_test)\n",
    "\n",
    "#probabilities to binary\n",
    "y_pred = (y_pred_prob > 0.5)\n",
    "print(np.concatenate((y_pred.reshape(len(y_pred),1), y_test.reshape(len(y_test),1)), 1))\n",
    "\n",
    "#Confusion Matrix\n",
    "confusion_matrix = confusion_matrix(y_test, y_pred)\n",
    "print(\"Confusion Matrix\", confusion_matrix)\n",
    "print(\"Accuracy Score\", accuracy_score(y_test, y_pred))"
   ]
  },
  {
   "cell_type": "code",
   "execution_count": null,
   "metadata": {},
   "outputs": [],
   "source": []
  },
  {
   "cell_type": "code",
   "execution_count": null,
   "metadata": {},
   "outputs": [],
   "source": [
    "Random.best_estimator_.fit(X_train, y_train)"
   ]
  },
  {
   "cell_type": "code",
   "execution_count": null,
   "metadata": {},
   "outputs": [],
   "source": [
    "# save the model to disk\n",
    "filename = 'best_SVC_model.sav'\n",
    "joblib.dump(Random.best_estimator_, filename)\n",
    "\n",
    "# load the model from disk\n",
    "loaded_model = joblib.load(filename)\n",
    "result = loaded_model.score(X_test, y_test)"
   ]
  },
  {
   "cell_type": "code",
   "execution_count": null,
   "metadata": {},
   "outputs": [],
   "source": [
    "#y_pred = Random.best_estimator_.predict(X_train)\n",
    "y_pred = loaded_model.predict(X_train)\n",
    "mse = mean_squared_error(y_train, y_pred)\n",
    "np.sqrt(mse)"
   ]
  },
  {
   "cell_type": "code",
   "execution_count": null,
   "metadata": {},
   "outputs": [],
   "source": [
    "y_pred = loaded_model.predict(X_test)\n",
    "mse = mean_squared_error(y_test, y_pred)\n",
    "np.sqrt(mse)"
   ]
  },
  {
   "cell_type": "code",
   "execution_count": null,
   "metadata": {},
   "outputs": [],
   "source": [
    "def averageProcessedEEG(device_version,scan_ID,local_path,fs,line,lowcut,highcut):\n",
    "    device = importFile.neurocatch()\n",
    "    fileObjects = device.init(device_version,scan_ID,local_path,dispIMG=False)\n",
    "    rawEEG = fileObjects[0]\n",
    "    rawEOG = fileObjects[1]\n",
    "    filtering = filters()\n",
    "    adaptiveFilterOutput = filtering.adaptive(rawEEG,rawEOG)\n",
    "    notchFilterOutput = filtering.notch(adaptiveFilterOutput,line,fs)\n",
    "    bandPassFilterOutput = filtering.butterBandPass(notchFilterOutput,lowcut,highcut,fs)[:,1]\n",
    "    windowEEG = slidingWindow(bandPassFilterOutput,5000,5000)\n",
    "    return windowEEG\n",
    "\n",
    "\n",
    "filename = \"No_Threshold.csv\"\n",
    "device_version = 1.0\n",
    "lowcut = cfg.highPass\n",
    "highcut = cfg.lowPass\n",
    "sfreq = cfg.fs\n",
    "localPath_scans = \"/Users/joshuaighalo/Documents/BrainNet/Projects/Workspace/results/laurel place/quality scans/\"\n",
    "file_dir = localPath_scans+filename\n",
    "quality_scans = pd.read_csv(file_dir)\n",
    "base_ND = [x for x in (quality_scans['Baseline No Dementia'].to_numpy()) if str(x) != 'nan']\n",
    "\n",
    "\n",
    "scans_windowEEG = []\n",
    "for i in range(len(base_ND)):\n",
    "    scan_ID = base_ND[i]\n",
    "    windowEEG = averageProcessedEEG(device_version,scan_ID,localPath_scans,sfreq,line,lowcut,highcut)\n",
    "    scans_windowEEG.append(windowEEG)"
   ]
  },
  {
   "cell_type": "code",
   "execution_count": null,
   "metadata": {},
   "outputs": [],
   "source": [
    "def featureExtraction(data):\n",
    "    filtering = filters()\n",
    "    delta_rhythms = filtering.butterBandPass(data,0.5,4,fs)\n",
    "    theta_rhythms = filtering.butterBandPass(data,4,8,fs)\n",
    "    alpha_rhythms = filtering.butterBandPass(data,8,13,fs)\n",
    "    beta_rhythms = filtering.butterBandPass(data,13,32,fs)\n",
    "    gamma_rhythms = filtering.butterBandPass(data,32,79,fs)\n",
    "\n",
    "    std_delta_rhythms = np.std(delta_rhythms,axis=0)\n",
    "    std_theta_rhythms = np.std(theta_rhythms,axis=0)\n",
    "    std_alpha_rhythms = np.std(alpha_rhythms,axis=0)\n",
    "    std_beta_rhythms = np.std(beta_rhythms,axis=0)\n",
    "    std_gamma_rhythms = np.std(gamma_rhythms,axis=0)\n",
    "\n",
    "    rms_delta_rhythms = np.sqrt(np.mean(delta_rhythms**2))\n",
    "    rms_theta_rhythms = np.sqrt(np.mean(theta_rhythms**2))\n",
    "    rms_alpha_rhythms = np.sqrt(np.mean(alpha_rhythms**2))\n",
    "    rms_beta_rhythms = np.sqrt(np.mean(beta_rhythms**2))\n",
    "    rms_gamma_rhythms = np.sqrt(np.mean(gamma_rhythms**2))\n",
    "\n",
    "    var_delta_rhythms = np.var(delta_rhythms,axis=0)\n",
    "    var_theta_rhythms = np.var(theta_rhythms,axis=0)\n",
    "    var_alpha_rhythms = np.var(alpha_rhythms,axis=0)\n",
    "    var_beta_rhythms = np.var(beta_rhythms,axis=0)\n",
    "    var_gamma_rhythms = np.var(gamma_rhythms,axis=0)\n",
    "\n",
    "    kurtosis_delta_rhythms = stats.kurtosis(delta_rhythms,axis=0)\n",
    "    kurtosis_theta_rhythms = stats.kurtosis(theta_rhythms,axis=0)\n",
    "    kurtosis_alpha_rhythms = stats.kurtosis(alpha_rhythms,axis=0)\n",
    "    kurtosis_beta_rhythms = stats.kurtosis(beta_rhythms,axis=0)\n",
    "    kurtosis_gamma_rhythms = stats.kurtosis(gamma_rhythms,axis=0)\n",
    "    #features = np.vstack((std_delta_rhythms,std_theta_rhythms,std_alpha_rhythms,std_beta_rhythms,std_gamma_rhythms,rms_delta_rhythms,rms_theta_rhythms,rms_alpha_rhythms,rms_beta_rhythms,rms_gamma_rhythms,var_delta_rhythms,var_theta_rhythms,var_alpha_rhythms,var_beta_rhythms,var_gamma_rhythms,kurtosis_delta_rhythms,kurtosis_theta_rhythms,kurtosis_alpha_rhythms,kurtosis_beta_rhythms,kurtosis_gamma_rhythms)).T\n",
    "    features = [std_delta_rhythms,std_theta_rhythms,std_alpha_rhythms,std_beta_rhythms,std_gamma_rhythms,rms_delta_rhythms,rms_theta_rhythms,rms_alpha_rhythms,rms_beta_rhythms,rms_gamma_rhythms,var_delta_rhythms,var_theta_rhythms,var_alpha_rhythms,var_beta_rhythms,var_gamma_rhythms,kurtosis_delta_rhythms,kurtosis_theta_rhythms,kurtosis_alpha_rhythms,kurtosis_beta_rhythms,kurtosis_gamma_rhythms]\n",
    "    return features\n",
    "\n",
    "\n",
    "features = []\n",
    "for i in range(len(allEEG_EO)):\n",
    "    features.append(featureExtraction(allEEG_EO[i]))"
   ]
  }
 ],
 "metadata": {
  "kernelspec": {
   "display_name": "Python 3.9.13 ('base')",
   "language": "python",
   "name": "python3"
  },
  "language_info": {
   "codemirror_mode": {
    "name": "ipython",
    "version": 3
   },
   "file_extension": ".py",
   "mimetype": "text/x-python",
   "name": "python",
   "nbconvert_exporter": "python",
   "pygments_lexer": "ipython3",
   "version": "3.9.13"
  },
  "orig_nbformat": 4,
  "vscode": {
   "interpreter": {
    "hash": "40d3a090f54c6569ab1632332b64b2c03c39dcf918b08424e98f38b5ae0af88f"
   }
  }
 },
 "nbformat": 4,
 "nbformat_minor": 2
}
