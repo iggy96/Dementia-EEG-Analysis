{
 "cells": [
  {
   "cell_type": "code",
   "execution_count": null,
   "metadata": {},
   "outputs": [],
   "source": [
    "\"\"\"\n",
    "Generation of eye open/close dataset\n",
    "Eyes Open and Eyes Close Activity Recognition Using EEG Signals:\n",
    "For activity recognition, a freely online available EEG-based motor movement and imaginary dataset provided by PhysioNet BCI [12] has been used. \n",
    "EEG signals were recorded from all 64 channels for 1 min. \n",
    "Two baseline tasks, eyes open (EO) and eyes close (EC) resting state have been used to collect the data from 109 users and are considered in this work. \n",
    "In order to detect each activity accurately, the EEG data has been segmented into 10 s. \n",
    "Thus, a total of 1308 EEG files (i.e. 654 for EC and 654 for EO) have been created for analysis\n",
    "link to paper: https://link-springer-com.proxy.lib.sfu.ca/content/pdf/10.1007/978-981-10-9059-2.pdf\n",
    "link to dataset: https://physionet.org/content/eegmmidb/1.0.0/\n",
    "\"\"\""
   ]
  },
  {
   "cell_type": "code",
   "execution_count": 8,
   "metadata": {},
   "outputs": [],
   "source": [
    "from fn_cfg import *\n",
    "import params as cfg"
   ]
  },
  {
   "cell_type": "code",
   "execution_count": 9,
   "metadata": {},
   "outputs": [],
   "source": [
    "#   Functions\n",
    "\n",
    "def extractEDF(file_name,local_directory):\n",
    "    subfolder = file_name[:-7]\n",
    "    directory = local_directory + '/' + subfolder + '/' + file_name\n",
    "    edf_file = mne.io.read_raw_edf(directory)\n",
    "    raw_data = edf_file.get_data()\n",
    "    info = edf_file.info\n",
    "    channelNames = info['ch_names']\n",
    "    fs = int(info['sfreq'])\n",
    "    chans_data = raw_data\n",
    "    Ts = (np.arange(0,len(chans_data.T)/fs,1/fs)).reshape(len(np.arange(0,len(chans_data.T)/fs,1/fs)),1)\n",
    "    return info,fs,Ts,channelNames,chans_data\n",
    "\n",
    "def rollingwindow(array,window_size,freq):\n",
    "    #   Inputs  :   array    - 2D numpy array (d0 = samples, d1 = channels) of filtered EEG data\n",
    "    #               window_size - size of window to be used for sliding\n",
    "    #               freq   - step size for sliding window \n",
    "    #   Output  :   3D array (columns of array,no of windows,window size)\n",
    "    def roll_window(array, window_size,freq):\n",
    "        array = np.array(array,dtype='object')\n",
    "        shape = (array.shape[0] - window_size + 1, window_size)\n",
    "        strides = (array.strides[0],) + array.strides\n",
    "        rolled = np.lib.stride_tricks.as_strided(array, shape=shape, strides=strides)\n",
    "        return rolled[np.arange(0,shape[0],freq)]\n",
    "    out_final = []\n",
    "    for i in range(len(array)):\n",
    "        out_final.append(roll_window(array[i],window_size,freq))\n",
    "    out_final = np.asarray(out_final).T\n",
    "    out_final = out_final.transpose()\n",
    "    return out_final\n",
    "    \n",
    "def featureExtraction(data):\n",
    "    filtering = filters()\n",
    "    delta_rhythms = filtering.butterBandPass(data,0.5,4,fs)\n",
    "    theta_rhythms = filtering.butterBandPass(data,4,8,fs)\n",
    "    alpha_rhythms = filtering.butterBandPass(data,8,13,fs)\n",
    "    beta_rhythms = filtering.butterBandPass(data,13,32,fs)\n",
    "    gamma_rhythms = filtering.butterBandPass(data,32,79,fs)\n",
    "\n",
    "    std_delta_rhythms = np.std(delta_rhythms,axis=0)\n",
    "    std_theta_rhythms = np.std(theta_rhythms,axis=0)\n",
    "    std_alpha_rhythms = np.std(alpha_rhythms,axis=0)\n",
    "    std_beta_rhythms = np.std(beta_rhythms,axis=0)\n",
    "    std_gamma_rhythms = np.std(gamma_rhythms,axis=0)\n",
    "\n",
    "    rms_delta_rhythms = np.sqrt(np.mean(delta_rhythms**2))\n",
    "    rms_theta_rhythms = np.sqrt(np.mean(theta_rhythms**2))\n",
    "    rms_alpha_rhythms = np.sqrt(np.mean(alpha_rhythms**2))\n",
    "    rms_beta_rhythms = np.sqrt(np.mean(beta_rhythms**2))\n",
    "    rms_gamma_rhythms = np.sqrt(np.mean(gamma_rhythms**2))\n",
    "\n",
    "    var_delta_rhythms = np.var(delta_rhythms,axis=0)\n",
    "    var_theta_rhythms = np.var(theta_rhythms,axis=0)\n",
    "    var_alpha_rhythms = np.var(alpha_rhythms,axis=0)\n",
    "    var_beta_rhythms = np.var(beta_rhythms,axis=0)\n",
    "    var_gamma_rhythms = np.var(gamma_rhythms,axis=0)\n",
    "\n",
    "    kurtosis_delta_rhythms = stats.kurtosis(delta_rhythms,axis=0)\n",
    "    kurtosis_theta_rhythms = stats.kurtosis(theta_rhythms,axis=0)\n",
    "    kurtosis_alpha_rhythms = stats.kurtosis(alpha_rhythms,axis=0)\n",
    "    kurtosis_beta_rhythms = stats.kurtosis(beta_rhythms,axis=0)\n",
    "    kurtosis_gamma_rhythms = stats.kurtosis(gamma_rhythms,axis=0)\n",
    "    #features = np.vstack((std_delta_rhythms,std_theta_rhythms,std_alpha_rhythms,std_beta_rhythms,std_gamma_rhythms,rms_delta_rhythms,rms_theta_rhythms,rms_alpha_rhythms,rms_beta_rhythms,rms_gamma_rhythms,var_delta_rhythms,var_theta_rhythms,var_alpha_rhythms,var_beta_rhythms,var_gamma_rhythms,kurtosis_delta_rhythms,kurtosis_theta_rhythms,kurtosis_alpha_rhythms,kurtosis_beta_rhythms,kurtosis_gamma_rhythms)).T\n",
    "    features = [std_delta_rhythms,std_theta_rhythms,std_alpha_rhythms,std_beta_rhythms,std_gamma_rhythms,rms_delta_rhythms,rms_theta_rhythms,rms_alpha_rhythms,rms_beta_rhythms,rms_gamma_rhythms,var_delta_rhythms,var_theta_rhythms,var_alpha_rhythms,var_beta_rhythms,var_gamma_rhythms,kurtosis_delta_rhythms,kurtosis_theta_rhythms,kurtosis_alpha_rhythms,kurtosis_beta_rhythms,kurtosis_gamma_rhythms]\n",
    "    return features\n",
    "\n",
    "def windowEEG(filename,local_dir):\n",
    "    data = extractEDF(filename,local_dir)\n",
    "    eeg_data = data[4]\n",
    "    win_eeg_data = rollingwindow(eeg_data,3200,3200)\n",
    "    new_eeg = win_eeg_data.reshape(win_eeg_data.shape[0]*win_eeg_data.shape[1],win_eeg_data.shape[2])\n",
    "    return new_eeg"
   ]
  },
  {
   "cell_type": "code",
   "execution_count": 10,
   "metadata": {},
   "outputs": [],
   "source": [
    "local_dir = '/Users/joshuaighalo/Downloads/files-2'\n",
    "window_size = 768\n",
    "step_size = 256\n",
    "nfft = 256\n",
    "noverlap = 128\n",
    "brainwaves = dict(delta = [0.5,4],theta = [4,8],alpha = [8,13],beta = [13,32],gamma = [32,100])"
   ]
  },
  {
   "cell_type": "code",
   "execution_count": 13,
   "metadata": {},
   "outputs": [],
   "source": [
    "files_EO = []\n",
    "files_EC = []\n",
    "for root, dirs, files in os.walk(local_dir):\n",
    "    if files:\n",
    "        files_EO.append(sorted(files)[0])\n",
    "        files_EC.append(sorted(files)[2])\n",
    "files_EO = files_EO[1:]\n",
    "files_EC = files_EC[1:]\n",
    "\n",
    "allEEG_EO = []\n",
    "allEEG_EC = []\n",
    "for i in range(len(files_EO)):\n",
    "    allEEG_EO.append(windowEEG(files_EO[i],local_dir))\n",
    "    allEEG_EC.append(windowEEG(files_EC[i],local_dir))\n",
    "allEEG_EO = np.array(allEEG_EO)\n",
    "allEEG_EC = np.array(allEEG_EC)\n",
    "allEEG_EO = allEEG_EO.reshape(allEEG_EO.shape[0]*allEEG_EO.shape[1],allEEG_EO.shape[2])\n",
    "allEEG_EC = allEEG_EC.reshape(allEEG_EC.shape[0]*allEEG_EC.shape[1],allEEG_EC.shape[2])"
   ]
  },
  {
   "cell_type": "code",
   "execution_count": 14,
   "metadata": {},
   "outputs": [],
   "source": [
    "features_EO = []\n",
    "features_EC = []\n",
    "for i in range(len(allEEG_EO)):\n",
    "    features_EO.append(featureExtraction(allEEG_EO[i]))\n",
    "    features_EC.append(featureExtraction(allEEG_EC[i]))\n",
    "features_EO = np.array(features_EO)\n",
    "features_EC = np.array(features_EC)\n"
   ]
  },
  {
   "cell_type": "code",
   "execution_count": 21,
   "metadata": {},
   "outputs": [],
   "source": [
    "ones = np.ones(len(features_EO))\n",
    "ones = ones.reshape(ones.shape[0],1)\n",
    "zeros = np.zeros(len(features_EC))\n",
    "zeros = zeros.reshape(zeros.shape[0],1)\n",
    "features_EO = np.hstack((features_EO,ones))\n",
    "features_EC = np.hstack((features_EC,zeros))\n",
    "features = np.vstack((features_EO,features_EC))"
   ]
  },
  {
   "cell_type": "code",
   "execution_count": 23,
   "metadata": {},
   "outputs": [],
   "source": [
    "df = pd.DataFrame({'std_delta':features[:,0],'std_theta':features[:,1],'std_alpha':features[:,2],'std_beta':features[:,3],'std_gamma':features[:,4],'rms_delta':features[:,5],'rms_theta':features[:,6],'rms_alpha':features[:,7],'rms_beta':features[:,8],'rms_gamma':features[:,9],'var_delta':features[:,10],'var_theta':features[:,11],'var_alpha':features[:,12],'var_beta':features[:,13],'var_gamma':features[:,14],'kurtosis_delta':features[:,15],'kurtosis_theta':features[:,16],'kurtosis_alpha':features[:,17],'kurtosis_beta':features[:,18],'kurtosis_gamma':features[:,19],'eye_status':features[:,20]})\n",
    "df.to_csv('/Users/joshuaighalo/Documents/BrainNet/Projects/Workspace/results/laurel place/ml_dataset/eye_open_close_windowed_dataset.csv',index=False)"
   ]
  }
 ],
 "metadata": {
  "kernelspec": {
   "display_name": "Python 3.9.7 ('base')",
   "language": "python",
   "name": "python3"
  },
  "language_info": {
   "codemirror_mode": {
    "name": "ipython",
    "version": 3
   },
   "file_extension": ".py",
   "mimetype": "text/x-python",
   "name": "python",
   "nbconvert_exporter": "python",
   "pygments_lexer": "ipython3",
   "version": "3.9.13"
  },
  "orig_nbformat": 4,
  "vscode": {
   "interpreter": {
    "hash": "40d3a090f54c6569ab1632332b64b2c03c39dcf918b08424e98f38b5ae0af88f"
   }
  }
 },
 "nbformat": 4,
 "nbformat_minor": 2
}
