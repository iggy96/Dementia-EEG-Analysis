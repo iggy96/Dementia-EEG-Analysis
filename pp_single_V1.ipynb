{
 "cells": [
  {
   "cell_type": "code",
   "execution_count": null,
   "metadata": {},
   "outputs": [],
   "source": [
    "from fn_cfg import *\n",
    "import params as cfg"
   ]
  },
  {
   "cell_type": "code",
   "execution_count": null,
   "metadata": {},
   "outputs": [],
   "source": [
    "\"Laurel Place Dataset\"\n",
    "localPath = '/Users/joshuaighalo/Downloads/EEG_Datasets/laurel_place/cleaned_dataset'\n",
    "img_save_path = '/Users/joshuaighalo/Documents/BrainNet/Projects/Workspace/results/laurel place/images/single_averages'\n",
    "filename = '0006_2_05122019_1410'\n",
    "version = 1.0\n",
    "image_name = \"Dementia Scan\""
   ]
  },
  {
   "cell_type": "code",
   "execution_count": null,
   "metadata": {},
   "outputs": [],
   "source": [
    "\"Bruyere Dataset\"\n",
    "#version = 1.1\n",
    "#filename = '1_1_04092018_1142'\n",
    "#localPath = '/Users/joshuaighalo/Downloads/EEG_Datasets/bruyere'"
   ]
  },
  {
   "cell_type": "code",
   "execution_count": null,
   "metadata": {},
   "outputs": [],
   "source": [
    "device = importFile.neurocatch()\n",
    "fileObjects = device.init(version,filename,localPath,dispIMG=False)\n",
    "rawEEG = fileObjects[0]\n",
    "rawEOG = fileObjects[1]\n",
    "rawEEGEOG = fileObjects[2]\n",
    "time = fileObjects[3]\n",
    "trigOutput = fileObjects[4]\n",
    "\n",
    "plots(time,rawEEGEOG,titles=cfg.channelNames_1,figsize=cfg.figure_size,pltclr=cfg.plot_color_1)"
   ]
  },
  {
   "cell_type": "code",
   "execution_count": null,
   "metadata": {},
   "outputs": [],
   "source": [
    "filtering = filters()\n",
    "adaptiveFilterOutput = filtering.adaptive(rawEEG,rawEOG)\n",
    "plots(time,adaptiveFilterOutput,titles=cfg.channelNames,figsize=cfg.figure_size,pltclr=cfg.plot_color)"
   ]
  },
  {
   "cell_type": "code",
   "execution_count": null,
   "metadata": {},
   "outputs": [],
   "source": [
    "notchFilterOutput = filtering.notch(adaptiveFilterOutput,line,fs)\n",
    "plots(time,adaptiveFilterOutput,titles=cfg.channelNames,figsize=cfg.figure_size,pltclr=cfg.plot_color)"
   ]
  },
  {
   "cell_type": "code",
   "execution_count": null,
   "metadata": {},
   "outputs": [],
   "source": [
    "bandPassFilterOutput = filtering.butterBandPass(adaptiveFilterOutput,lowcut=cfg.highPass,highcut=cfg.lowPass,fs=cfg.fs)\n",
    "plots(time,bandPassFilterOutput,titles=cfg.channelNames,figsize=cfg.figure_size,pltclr=cfg.plot_color)"
   ]
  },
  {
   "cell_type": "code",
   "execution_count": null,
   "metadata": {},
   "outputs": [],
   "source": [
    "pk_bandPassFilterOutput = quality_p2p(bandPassFilterOutput)\n",
    "print(\"Peak-Peak @ Fz\",pk_bandPassFilterOutput[0])\n",
    "print(\"Peak-Peak @ Cz\",pk_bandPassFilterOutput[1])\n",
    "print(\"Peak-Peak @ Pz\",pk_bandPassFilterOutput[2])"
   ]
  },
  {
   "cell_type": "code",
   "execution_count": null,
   "metadata": {},
   "outputs": [],
   "source": [
    "erps = erpExtraction()\n",
    "N1P3 = erps.N100P300(trigOutput,bandPassFilterOutput,time,stimTrig=cfg.stimTrig,clip=cfg.clip,dispIMG=False)\n",
    "N4 = erps.N400(trigOutput,bandPassFilterOutput,time,stimTrig=cfg.stimTrig,clip=cfg.clip,dispIMG=False)\n",
    "N1P3_Fz = N1P3[0]\n",
    "N1P3_Cz = N1P3[1]\n",
    "N1P3_Pz = N1P3[2]\n",
    "N4_Fz = N4[0]\n",
    "N4_Cz = N4[1]\n",
    "N4_Pz = N4[2]\n",
    "erp_latency = np.array(np.linspace(start=-100, stop=900, num=len(N1P3_Fz[0]),dtype=object),dtype=object)"
   ]
  },
  {
   "cell_type": "code",
   "execution_count": null,
   "metadata": {},
   "outputs": [],
   "source": [
    "plot_ERPs(img_save_path,N1P3_Fz[0],N1P3_Fz[1],erp_latency,'N1P3_Fz','Latency (ms)','Amplitude (uV)','std','dev','b','r',10,image_name)\n",
    "plot_ERPs(img_save_path,N1P3_Cz[0],N1P3_Cz[1],erp_latency,'N1P3_Cz','Latency (ms)','Amplitude (uV)','std','dev','b','r',10,image_name)\n",
    "plot_ERPs(img_save_path,N1P3_Pz[0],N1P3_Pz[1],erp_latency,'N1P3_Pz','Latency (ms)','Amplitude (uV)','std','dev','b','r',10,image_name)\n",
    "plot_ERPs(img_save_path,N4_Fz[0],N4_Fz[1],erp_latency,'N4_Fz','Latency (ms)','Amplitude (uV)','std','dev','b','r',10,image_name)\n",
    "plot_ERPs(img_save_path,N4_Cz[0],N4_Cz[1],erp_latency,'N4_Cz','Latency (ms)','Amplitude (uV)','std','dev','b','r',10,image_name)\n",
    "plot_ERPs(img_save_path,N4_Pz[0],N4_Pz[1],erp_latency,'N4_Pz','Latency (ms)','Amplitude (uV)','std','dev','b','r',10,image_name)"
   ]
  },
  {
   "cell_type": "code",
   "execution_count": null,
   "metadata": {},
   "outputs": [],
   "source": [
    "trig_chan = trigOutput.T\n",
    "#eeg_trigOnes = windows_trig[idx_rows_ones]\n",
    "#eeg_trigTwos = windows_trig[idx_rows_twos]\n",
    "#eeg_ones = window_EEG[idx_rows_ones]\n",
    "#eeg_twos = window_EEG[idx_rows_twos]\n",
    "#eeg_ones_mean = np.mean(eeg_ones,axis=0)\n",
    "#eeg_twos_mean = np.mean(eeg_twos,axis=0)\n",
    "#latency = np.linspace(start=-100, stop=900, num=len(eeg_ones_mean),dtype=object)\n",
    "#plot_ERPs(img_save_path,eeg_ones_mean,eeg_twos_mean,latency,'N1P3_Fz','Latency (ms)','Amplitude (uV)','std','dev','b','r',10,image_name)\n"
   ]
  },
  {
   "cell_type": "code",
   "execution_count": null,
   "metadata": {},
   "outputs": [],
   "source": [
    "\"\"\"\n",
    "trigger_channel = trigOutput\n",
    "channel_data = bandPassFilterOutput[:,0]\n",
    "period = time\n",
    "dispIMG =False\n",
    "\n",
    "\n",
    "trigger_data = rising_edge(trigger_channel)\n",
    "trigCol = trigger_data\n",
    "avg = channel_data \n",
    "Ts = period\n",
    "# STANDARD TONE [1]: extract the time points where stimuli 1 exists\n",
    "std = stimTrig['std']\n",
    "std = std[0]\n",
    "\n",
    "no_ones = np.count_nonzero(trigCol==1)\n",
    "if dispIMG == True:\n",
    "    print(\"number of std tone event codes:\",no_ones)\n",
    "else:\n",
    "    pass\n",
    "\n",
    "result = np.where(trigCol == std)\n",
    "idx_10 = result[0]\n",
    "idx_11 = idx_10.reshape(1,len(idx_10))\n",
    "\n",
    "# sort target values\n",
    "desiredCols = trigCol[idx_10]\n",
    "desiredCols = desiredCols.reshape(len(desiredCols),1)\n",
    "\n",
    "# sort values before target\n",
    "idx_st = (idx_11 - 50)\n",
    "i = len(idx_st.T)\n",
    "allArrays = np.array([])\n",
    "for x in range(i):\n",
    "    myArray = trigCol[int(idx_st[:,x]):int(idx_11[:,x])]\n",
    "    allArrays = np.concatenate([allArrays,myArray])\n",
    "startVals = allArrays\n",
    "startCols = startVals.reshape(no_ones,50)\n",
    "\n",
    "# sort values immediately after target\n",
    "idx_en11 = idx_11 + 1\n",
    "postTargetCols = trigCol[idx_en11]\n",
    "postTargetCols = postTargetCols.T\n",
    "\n",
    "# sort end values\n",
    "    # ----------------------------------------------------------------------------\n",
    "    # determination of the number steps to reach the last point of each epoch\n",
    "    # the event codes are not evenly timed hence the need for steps determination\n",
    "a = trigCol[idx_10]\n",
    "a = a.reshape(len(a),1)\n",
    "\n",
    "b = Ts[idx_10]\n",
    "\n",
    "c_i = float(\"%0.3f\" % (Ts[int(len(Ts)-1)]))\n",
    "c = (np.array([0,c_i]))\n",
    "c = c.reshape(1,len(c))\n",
    "\n",
    "std_distr = np.concatenate((a, b),axis=1)\n",
    "std_distr = np.vstack((std_distr,c))\n",
    "\n",
    "std_diff = np.diff(std_distr[:,1],axis=0)\n",
    "std_step = ((std_diff/0.002)-1)\n",
    "std_step = np.where(std_step > 447, 447, std_step)\n",
    "\n",
    "# check if the number of steps are the same if yes, meaning the epochs have the same length\n",
    "result = np.all(std_step == std_step[0])\n",
    "if result:\n",
    "    # use for equal epoch steps\n",
    "    # sort end values\n",
    "    idx_en12 = idx_en11 + std_step.T\n",
    "    i = len(idx_en12.T)\n",
    "    allArrays = np.array([])\n",
    "    for x in range(i):\n",
    "        myArray = trigCol[int(idx_en11[:,x]):int(idx_en12[:,x])]\n",
    "        allArrays = np.concatenate([allArrays,myArray])\n",
    "    endVals = allArrays\n",
    "    endCols = endVals.reshape(no_ones,447)\n",
    "    \n",
    "    # merge the different sections of the epoch to form the epochs\n",
    "    trig_std = np.concatenate((startCols,desiredCols,endCols),axis=1)\n",
    "\n",
    "else:\n",
    "    # use when we have unequal epoch steps\n",
    "        # --------------------------------------------\n",
    "        # apply the step to get the index of the last point of the epoch\n",
    "    idx_en12 = idx_en11 + std_step.T \n",
    "    i = len(idx_en12.T)\n",
    "    allArrays = []\n",
    "    for x in range(i):\n",
    "        myArray = trigCol[int(idx_en11[:,x]):int(idx_en12[:,x])]\n",
    "        allArrays.append(myArray)\n",
    "    endVals = allArrays\n",
    "        # add zeros to fill enable epochs of shorter length equal with epochs of adequate length\n",
    "    l = endVals\n",
    "    max_len = max([len(arr) for arr in l])\n",
    "    padded = np.array([np.lib.pad(arr, (0, max_len - len(arr)), 'constant', constant_values=0) for arr in l])\n",
    "        # appropriate end columns\n",
    "    endCols = padded\n",
    "    \n",
    "    # merge the different sections of the epoch to form the epochs\n",
    "    trig_stdpad = np.concatenate((startCols,desiredCols,endCols),axis=1)\n",
    "\"\"\"\n"
   ]
  }
 ],
 "metadata": {
  "kernelspec": {
   "display_name": "Python 3.9.7 ('base')",
   "language": "python",
   "name": "python3"
  },
  "language_info": {
   "codemirror_mode": {
    "name": "ipython",
    "version": 3
   },
   "file_extension": ".py",
   "mimetype": "text/x-python",
   "name": "python",
   "nbconvert_exporter": "python",
   "pygments_lexer": "ipython3",
   "version": "3.9.7"
  },
  "orig_nbformat": 4,
  "vscode": {
   "interpreter": {
    "hash": "40d3a090f54c6569ab1632332b64b2c03c39dcf918b08424e98f38b5ae0af88f"
   }
  }
 },
 "nbformat": 4,
 "nbformat_minor": 2
}
