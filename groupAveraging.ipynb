{
 "cells": [
  {
   "cell_type": "code",
   "execution_count": 1,
   "metadata": {},
   "outputs": [
    {
     "name": "stderr",
     "output_type": "stream",
     "text": [
      "OMP: Info #271: omp_set_nested routine deprecated, please use omp_set_max_active_levels instead.\n"
     ]
    }
   ],
   "source": [
    "from fn_cfg import *\n",
    "import params as cfg\n",
    "import dementia_classes"
   ]
  },
  {
   "cell_type": "code",
   "execution_count": 2,
   "metadata": {},
   "outputs": [],
   "source": [
    "#   baseline scans for different dementia classes\n",
    "base_ND = dementia_classes.scansND_B\n",
    "base_MILD = dementia_classes.scansMILD_B\n",
    "base_MOD = dementia_classes.scansMOD_B\n",
    "base_SD = dementia_classes.scansSEVD_B"
   ]
  },
  {
   "cell_type": "code",
   "execution_count": 3,
   "metadata": {},
   "outputs": [],
   "source": [
    "#   4-months scans for different dementia classes\n",
    "four_ND = dementia_classes.scansND_4\n",
    "four_MILD = dementia_classes.scansMILD_4\n",
    "four_MOD = dementia_classes.scansMOD_4\n",
    "four_SD = dementia_classes.scansSEVD_4"
   ]
  },
  {
   "cell_type": "code",
   "execution_count": 4,
   "metadata": {},
   "outputs": [],
   "source": [
    "#   8-months scans for different dementia classes\n",
    "eight_ND = dementia_classes.scansND_8\n",
    "eight_MILD = dementia_classes.scansMILD_8\n",
    "eight_MOD = dementia_classes.scansMOD_8\n",
    "eight_SD = dementia_classes.scansSEVD_8"
   ]
  },
  {
   "cell_type": "code",
   "execution_count": 5,
   "metadata": {},
   "outputs": [
    {
     "name": "stdout",
     "output_type": "stream",
     "text": [
      "scan name:  0405_1_12042019_1129\n",
      "['/Users/joshuaighalo/Downloads/EEG_Datasets/laurel_place/dataset/0405_1_12042019_1129/0405_1_12042019_1129.bin']\n",
      "channel P3 utilized\n",
      "channel P07 utilized\n",
      "data contains Fz, Cz, Pz & two EOG channels\n"
     ]
    },
    {
     "name": "stderr",
     "output_type": "stream",
     "text": [
      "/opt/anaconda3/lib/python3.9/site-packages/numpy/core/_asarray.py:102: VisibleDeprecationWarning: Creating an ndarray from ragged nested sequences (which is a list-or-tuple of lists-or-tuples-or ndarrays with different lengths or shapes) is deprecated. If you meant to do this, you must specify 'dtype=object' when creating the ndarray.\n",
      "  return array(a, dtype, copy=False, order=order)\n"
     ]
    },
    {
     "data": {
      "image/png": "[encoded data removed]",
      "text/plain": [
       "<Figure size 432x288 with 1 Axes>"
      ]
     },
     "metadata": {
      "needs_background": "light"
     },
     "output_type": "display_data"
    }
   ],
   "source": [
    "def pipeline_single_NC(device_version,scan_ID,local_path,dispIMG=False):\n",
    "    \"\"\"\n",
    "    single scan pipeline for NC\n",
    "    Input:  single scan ID, local path to the scan, and device version (1.0 or 1.1)\n",
    "    Output: 7 x 2 list: [std_Fz,dev_Fz]\n",
    "                        [std_Cz,dev_Cz]\n",
    "                        [std_Pz,dev_Pz]\n",
    "                        [con_Fz,inc_Fz]\n",
    "                        [con_Cz,inc_Cz]\n",
    "                        [con_Pz,inc_Pz]\n",
    "                        [erp_latency,0]\n",
    "    \"\"\"\n",
    "    print(\"scan name: \",scan_ID)\n",
    "    device = importFile.neurocatch()\n",
    "    fileObjects = device.init(device_version,scan_ID,local_path)\n",
    "    rawEEG = fileObjects[0]\n",
    "    rawEOG = fileObjects[1]\n",
    "    rawEEGEOG = fileObjects[2]\n",
    "    time = fileObjects[3]\n",
    "    trigOutput = fileObjects[4]\n",
    "    filtering = filters()\n",
    "    adaptiveFilterOutput = filtering.adaptive(rawEEG,rawEOG)\n",
    "    notchFilterOutput = filtering.notch(adaptiveFilterOutput,line,fs)\n",
    "    bandPassFilterOutput = filtering.butterBandPass(notchFilterOutput,lowcut=0.1,highcut=5,fs=cfg.fs)\n",
    "    erps = erpExtraction()\n",
    "    N1P3 = erps.N100P300(trigOutput,bandPassFilterOutput,time,stimTrig=cfg.stimTrig,clip=cfg.clip,dispIMG=dispIMG)\n",
    "    N4 = erps.N400(trigOutput,bandPassFilterOutput,time,stimTrig=cfg.stimTrig,clip=cfg.clip,dispIMG=dispIMG)\n",
    "    N1P3_Fz,N1P3_Cz,N1P3_Pz,N4_Fz,N4_Cz,N4_Pz = N1P3[0],N1P3[1],N1P3[2],N4[0],N4[1],N4[2]\n",
    "    erp_latency = np.array(np.linspace(start=-100, stop=900, num=len(N1P3_Fz[0]),dtype=object),dtype=object)\n",
    "    std_Fz,dev_Fz,std_Cz,dev_Cz,std_Pz,dev_Pz = N1P3_Fz[0],N1P3_Fz[1],N1P3_Cz[0],N1P3_Cz[1],N1P3_Pz[0],N1P3_Pz[1]\n",
    "    con_Fz,inc_Fz,con_Cz,inc_Cz,con_Pz,inc_Pz = N4_Fz[0],N4_Fz[1],N4_Cz[0],N4_Cz[1],N4_Pz[0],N4_Pz[1]\n",
    "    output = std_Fz,dev_Fz,std_Cz,dev_Cz,std_Pz,dev_Pz,con_Fz,inc_Fz,con_Cz,inc_Cz,con_Pz,inc_Pz,erp_latency\n",
    "    return output\n",
    "\n",
    "test = pipeline_single_NC(device_version=1.0,\n",
    "                    scan_ID='0405_1_12042019_1129',\n",
    "                    local_path='/Users/joshuaighalo/Downloads/EEG_Datasets/laurel_place/dataset')\n",
    "\n",
    "\n",
    "plot_ERPs(test[0],test[1],test[12],'N1P3_Fz','Latency (ms)','Amplitude (uV)','std','dev','b','r',10)"
   ]
  },
  {
   "cell_type": "code",
   "execution_count": 6,
   "metadata": {},
   "outputs": [
    {
     "name": "stdout",
     "output_type": "stream",
     "text": [
      "15\n",
      "scan name:  0045_1_01052019_1040\n",
      "['/Users/joshuaighalo/Downloads/EEG_Datasets/laurel_place/dataset/0045_1_01052019_1040/0045_1_01052019_1040.bin']\n",
      "channel P3 utilized\n",
      "channel P07 utilized\n",
      "data contains Fz, Cz, Pz & two EOG channels\n"
     ]
    },
    {
     "name": "stderr",
     "output_type": "stream",
     "text": [
      "/opt/anaconda3/lib/python3.9/site-packages/numpy/core/_asarray.py:102: VisibleDeprecationWarning: Creating an ndarray from ragged nested sequences (which is a list-or-tuple of lists-or-tuples-or ndarrays with different lengths or shapes) is deprecated. If you meant to do this, you must specify 'dtype=object' when creating the ndarray.\n",
      "  return array(a, dtype, copy=False, order=order)\n"
     ]
    },
    {
     "name": "stdout",
     "output_type": "stream",
     "text": [
      "scan name:  0085_1_25022019_1113\n",
      "['/Users/joshuaighalo/Downloads/EEG_Datasets/laurel_place/dataset/0085_1_25022019_1113/0085_1_25022019_1113.bin']\n",
      "channel P3 utilized\n",
      "channel P07 utilized\n",
      "data contains Fz, Cz, Pz & two EOG channels\n",
      "scan name:  0091_1_24042019_1121\n",
      "['/Users/joshuaighalo/Downloads/EEG_Datasets/laurel_place/dataset/0091_1_24042019_1121/0091_1_24042019_1121.bin']\n",
      "channel P3 utilized\n",
      "channel P07 utilized\n",
      "data contains Fz, Cz, Pz & two EOG channels\n",
      "scan name:  0093_1_08042019_1205\n",
      "['/Users/joshuaighalo/Downloads/EEG_Datasets/laurel_place/dataset/0093_1_08042019_1205/0093_1_08042019_1205.bin']\n",
      "channel P3 utilized\n",
      "channel P07 utilized\n",
      "data contains Fz, Cz, Pz & two EOG channels\n",
      "scan name:  0111_2_19032019_1039\n",
      "['/Users/joshuaighalo/Downloads/EEG_Datasets/laurel_place/dataset/0111_2_19032019_1039/0111_2_19032019_1039.bin']\n",
      "channel P3 utilized\n",
      "channel P07 utilized\n",
      "data contains Fz, Cz, Pz & two EOG channels\n",
      "scan name:  0405_2_12042019_1135\n",
      "['/Users/joshuaighalo/Downloads/EEG_Datasets/laurel_place/dataset/0405_2_12042019_1135/0405_2_12042019_1135.bin']\n",
      "channel P3 utilized\n",
      "channel P07 utilized\n",
      "data contains Fz, Cz, Pz & two EOG channels\n"
     ]
    }
   ],
   "source": [
    "print(len(base_ND))\n",
    "\n",
    "\n",
    "eeg_base_ND = []\n",
    "for i in range(len(base_MILD)):\n",
    "    eeg_base_ND.append(pipeline_single_NC(device_version=1.0,\n",
    "                    scan_ID=base_MILD[i][1],\n",
    "                    local_path='/Users/joshuaighalo/Downloads/EEG_Datasets/laurel_place/dataset'))\n"
   ]
  }
 ],
 "metadata": {
  "kernelspec": {
   "display_name": "Python 3.9.7 ('base')",
   "language": "python",
   "name": "python3"
  },
  "language_info": {
   "codemirror_mode": {
    "name": "ipython",
    "version": 3
   },
   "file_extension": ".py",
   "mimetype": "text/x-python",
   "name": "python",
   "nbconvert_exporter": "python",
   "pygments_lexer": "ipython3",
   "version": "3.9.7"
  },
  "orig_nbformat": 4,
  "vscode": {
   "interpreter": {
    "hash": "40d3a090f54c6569ab1632332b64b2c03c39dcf918b08424e98f38b5ae0af88f"
   }
  }
 },
 "nbformat": 4,
 "nbformat_minor": 2
}
