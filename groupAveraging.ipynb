{
 "cells": [
  {
   "cell_type": "code",
   "execution_count": 3,
   "metadata": {},
   "outputs": [],
   "source": [
    "import dementia_classes"
   ]
  },
  {
   "cell_type": "code",
   "execution_count": 4,
   "metadata": {},
   "outputs": [],
   "source": [
    "#   baseline scans for different dementia classes\n",
    "base_ND = dementia_classes.scans_ND_B\n",
    "base_MILD = dementia_classes.scans_MILD_B\n",
    "base_MOD = dementia_classes.scans_MOD_B\n",
    "base_SD = dementia_classes.scans_SEVD_B"
   ]
  },
  {
   "cell_type": "code",
   "execution_count": 5,
   "metadata": {},
   "outputs": [],
   "source": [
    "#   4-months scans for different dementia classes\n",
    "four_ND = dementia_classes.scans_ND_4\n",
    "four_MILD = dementia_classes.scans_MILD_4\n",
    "four_MOD = dementia_classes.scans_MOD_4\n",
    "four_SD = dementia_classes.scans_SEVD_4"
   ]
  },
  {
   "cell_type": "code",
   "execution_count": 6,
   "metadata": {},
   "outputs": [],
   "source": [
    "#   8-months scans for different dementia classes\n",
    "eight_ND = dementia_classes.scans_ND_8\n",
    "eight_MILD = dementia_classes.scans_MILD_8\n",
    "eight_MOD = dementia_classes.scans_MOD_8\n",
    "eight_SD = dementia_classes.scans_SEVD_8"
   ]
  }
 ],
 "metadata": {
  "kernelspec": {
   "display_name": "Python 3.9.7 ('base')",
   "language": "python",
   "name": "python3"
  },
  "language_info": {
   "codemirror_mode": {
    "name": "ipython",
    "version": 3
   },
   "file_extension": ".py",
   "mimetype": "text/x-python",
   "name": "python",
   "nbconvert_exporter": "python",
   "pygments_lexer": "ipython3",
   "version": "3.9.7"
  },
  "orig_nbformat": 4,
  "vscode": {
   "interpreter": {
    "hash": "40d3a090f54c6569ab1632332b64b2c03c39dcf918b08424e98f38b5ae0af88f"
   }
  }
 },
 "nbformat": 4,
 "nbformat_minor": 2
}
