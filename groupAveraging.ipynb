{
 "cells": [
  {
   "cell_type": "code",
   "execution_count": 1,
   "metadata": {},
   "outputs": [
    {
     "name": "stderr",
     "output_type": "stream",
     "text": [
      "OMP: Info #271: omp_set_nested routine deprecated, please use omp_set_max_active_levels instead.\n"
     ]
    }
   ],
   "source": [
    "from fn_cfg import *\n",
    "import params as cfg\n",
    "import dementia_classes"
   ]
  },
  {
   "cell_type": "code",
   "execution_count": 2,
   "metadata": {},
   "outputs": [],
   "source": [
    "#   baseline scans for different dementia classes\n",
    "base_ND = dementia_classes.scansND_B\n",
    "base_MILD = dementia_classes.scansMILD_B\n",
    "base_MOD = dementia_classes.scansMOD_B\n",
    "base_SD = dementia_classes.scansSEVD_B"
   ]
  },
  {
   "cell_type": "code",
   "execution_count": 3,
   "metadata": {},
   "outputs": [],
   "source": [
    "#   4-months scans for different dementia classes\n",
    "four_ND = dementia_classes.scansND_4\n",
    "four_MILD = dementia_classes.scansMILD_4\n",
    "four_MOD = dementia_classes.scansMOD_4\n",
    "four_SD = dementia_classes.scansSEVD_4"
   ]
  },
  {
   "cell_type": "code",
   "execution_count": 4,
   "metadata": {},
   "outputs": [],
   "source": [
    "#   8-months scans for different dementia classes\n",
    "eight_ND = dementia_classes.scansND_8\n",
    "eight_MILD = dementia_classes.scansMILD_8\n",
    "eight_MOD = dementia_classes.scansMOD_8\n",
    "eight_SD = dementia_classes.scansSEVD_8"
   ]
  },
  {
   "cell_type": "code",
   "execution_count": 5,
   "metadata": {},
   "outputs": [
    {
     "ename": "SyntaxError",
     "evalue": "positional argument follows keyword argument (3026726723.py, line 27)",
     "output_type": "error",
     "traceback": [
      "\u001b[0;36m  File \u001b[0;32m\"/var/folders/ry/jhpq361x33g2tv7b7l6j0md80000gn/T/ipykernel_4567/3026726723.py\"\u001b[0;36m, line \u001b[0;32m27\u001b[0m\n\u001b[0;31m    N1P3 = erps.N100P300(trigOutput,bandPassFilterOutput,time,stimTrig=cfg.stimTrig,clip=cfg.clip,dispIMG)\u001b[0m\n\u001b[0m                                                                                                         ^\u001b[0m\n\u001b[0;31mSyntaxError\u001b[0m\u001b[0;31m:\u001b[0m positional argument follows keyword argument\n"
     ]
    }
   ],
   "source": [
    "def pipeline_single_NC(device_version,scan_ID,local_path,dispIMG=False):\n",
    "    \"\"\"\n",
    "    single scan pipeline for NC\n",
    "    Input:  single scan ID, local path to the scan, and device version (1.0 or 1.1)\n",
    "    Output: 7 x 2 list: [std_Fz,dev_Fz]\n",
    "                        [std_Cz,dev_Cz]\n",
    "                        [std_Pz,dev_Pz]\n",
    "                        [con_Fz,inc_Fz]\n",
    "                        [con_Cz,inc_Cz]\n",
    "                        [con_Pz,inc_Pz]\n",
    "                        [erp_latency,0]\n",
    "    \"\"\"\n",
    "    if len(scan_ID) >= 20:\n",
    "        print(\"scan name: \",scan_ID)\n",
    "        device = importFile.neurocatch()\n",
    "        fileObjects = device.init(device_version,scan_ID,local_path)\n",
    "        rawEEG = fileObjects[0]\n",
    "        rawEOG = fileObjects[1]\n",
    "        rawEEGEOG = fileObjects[2]\n",
    "        time = fileObjects[3]\n",
    "        trigOutput = fileObjects[4]\n",
    "        filtering = filters()\n",
    "        adaptiveFilterOutput = filtering.adaptive(rawEEG,rawEOG)\n",
    "        notchFilterOutput = filtering.notch(adaptiveFilterOutput,line,fs)\n",
    "        bandPassFilterOutput = filtering.butterBandPass(notchFilterOutput,lowcut=0.1,highcut=5,fs=cfg.fs)\n",
    "        erps = erpExtraction()\n",
    "        N1P3 = erps.N100P300(trigOutput,bandPassFilterOutput,time,stimTrig=cfg.stimTrig,clip=cfg.clip,dispIMG=dispIMG)\n",
    "        N4 = erps.N400(trigOutput,bandPassFilterOutput,time,stimTrig=cfg.stimTrig,clip=cfg.clip,dispIMG=dispIMG)\n",
    "        N1P3_Fz,N1P3_Cz,N1P3_Pz,N4_Fz,N4_Cz,N4_Pz = N1P3[0],N1P3[1],N1P3[2],N4[0],N4[1],N4[2]\n",
    "        erp_latency = np.array(np.linspace(start=-100, stop=900, num=len(N1P3_Fz[0]),dtype=object),dtype=object)\n",
    "        std_Fz,dev_Fz,std_Cz,dev_Cz,std_Pz,dev_Pz = N1P3_Fz[0],N1P3_Fz[1],N1P3_Cz[0],N1P3_Cz[1],N1P3_Pz[0],N1P3_Pz[1]\n",
    "        #std_Fz,dev_Fz = N1P3_Fz[0],N1P3_Fz[1]\n",
    "        #std_Cz,dev_Cz = N1P3_Cz[0],N1P3_Cz[1]\n",
    "        #std_Pz,dev_Pz = N1P3_Pz[0],N1P3_Pz[1]\n",
    "        con_Fz,inc_Fz,con_Cz,inc_Cz,con_Pz,inc_Pz = N4_Fz[0],N4_Fz[1],N4_Cz[0],N4_Cz[1],N4_Pz[0],N4_Pz[1]\n",
    "        #std_Fz_4,dev_Fz_4 = N4_Fz[0],N4_Fz[1]\n",
    "        #std_Cz_4,dev_Cz_4 = N4_Cz[0],N4_Cz[1]\n",
    "        #std_Pz_4,dev_Pz_4 = N4_Pz[0],N4_Pz[1]\n",
    "        output = std_Fz,dev_Fz,std_Cz,dev_Cz,std_Pz,dev_Pz,con_Fz,inc_Fz,con_Cz,inc_Cz,con_Pz,inc_Pz,erp_latency\n",
    "    if scan_ID == 'NaN':\n",
    "        output = 0\n",
    "    return output\n",
    "\n",
    "test = pipeline_single_NC(device_version=1.0,\n",
    "                    scan_ID='0405_1_12042019_1129',\n",
    "                    local_path='/Users/joshuaighalo/Downloads/EEG_Datasets/laurel_place/dataset')\n",
    "\n",
    "\n",
    "plot_ERPs(test[0],test[1],test[12],'N1P3_Fz','Latency (ms)','Amplitude (uV)','std','dev','b','r',10)"
   ]
  },
  {
   "cell_type": "code",
   "execution_count": null,
   "metadata": {},
   "outputs": [],
   "source": [
    "print(len(base_ND))\n",
    "\n",
    "\n",
    "eeg_base_ND = []\n",
    "for i in range(len(base_MILD)):\n",
    "    eeg_base_ND.append(pipeline_single_NC(device_version=1.0,\n",
    "                    scan_ID=base_MILD[i][1],\n",
    "                    local_path='/Users/joshuaighalo/Downloads/EEG_Datasets/laurel_place/dataset'))\n"
   ]
  }
 ],
 "metadata": {
  "kernelspec": {
   "display_name": "Python 3.9.7 ('base')",
   "language": "python",
   "name": "python3"
  },
  "language_info": {
   "codemirror_mode": {
    "name": "ipython",
    "version": 3
   },
   "file_extension": ".py",
   "mimetype": "text/x-python",
   "name": "python",
   "nbconvert_exporter": "python",
   "pygments_lexer": "ipython3",
   "version": "3.9.7"
  },
  "orig_nbformat": 4,
  "vscode": {
   "interpreter": {
    "hash": "40d3a090f54c6569ab1632332b64b2c03c39dcf918b08424e98f38b5ae0af88f"
   }
  }
 },
 "nbformat": 4,
 "nbformat_minor": 2
}
