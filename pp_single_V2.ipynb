{
 "cells": [
  {
   "cell_type": "code",
   "execution_count": null,
   "metadata": {},
   "outputs": [],
   "source": [
    "\"\"\"\n",
    "uses a low pass filter on the ERPs to remove alpha oscillations using a cut off of 5Hz\n",
    "\"\"\""
   ]
  },
  {
   "cell_type": "code",
   "execution_count": null,
   "metadata": {},
   "outputs": [],
   "source": [
    "from fn_cfg import *\n",
    "import params as cfg"
   ]
  },
  {
   "cell_type": "code",
   "execution_count": null,
   "metadata": {},
   "outputs": [],
   "source": [
    "\"Laurel Place Dataset\"\n",
    "localPath = '/Users/joshuaighalo/Downloads/EEG_Datasets/laurel_place/cleaned_dataset'\n",
    "img_save_path = '/Users/joshuaighalo/Documents/BrainNet/Projects/Workspace/results/laurel place/images/single_averages'\n",
    "filename = '0135_1_09092019_1148'\n",
    "version = 1.0\n",
    "image_name = \"Dementia Scan\""
   ]
  },
  {
   "cell_type": "code",
   "execution_count": null,
   "metadata": {},
   "outputs": [],
   "source": [
    "\"Bruyere Dataset\"\n",
    "#version = 1.1\n",
    "#filename = '1_1_04092018_1142'\n",
    "#localPath = '/Users/joshuaighalo/Downloads/EEG_Datasets/bruyere'"
   ]
  },
  {
   "cell_type": "code",
   "execution_count": null,
   "metadata": {},
   "outputs": [],
   "source": [
    "device = importFile.neurocatch()\n",
    "fileObjects = device.init(version,filename,localPath,dispIMG=False)\n",
    "rawEEG = fileObjects[0]\n",
    "rawEOG = fileObjects[1]\n",
    "rawEEGEOG = fileObjects[2]\n",
    "time = fileObjects[3]\n",
    "trigOutput = fileObjects[4]\n",
    "\n",
    "plots(time,rawEEGEOG,titles=cfg.channelNames_1,figsize=cfg.figure_size,pltclr=cfg.plot_color_1)"
   ]
  },
  {
   "cell_type": "code",
   "execution_count": null,
   "metadata": {},
   "outputs": [],
   "source": [
    "filtering = filters()\n",
    "adaptiveFilterOutput = filtering.adaptive(rawEEG,rawEOG)\n",
    "plots(time,adaptiveFilterOutput,titles=cfg.channelNames,figsize=cfg.figure_size,pltclr=cfg.plot_color)"
   ]
  },
  {
   "cell_type": "code",
   "execution_count": null,
   "metadata": {},
   "outputs": [],
   "source": [
    "notchFilterOutput = filtering.notch(adaptiveFilterOutput,line,fs)\n",
    "plots(time,adaptiveFilterOutput,titles=cfg.channelNames,figsize=cfg.figure_size,pltclr=cfg.plot_color)"
   ]
  },
  {
   "cell_type": "code",
   "execution_count": null,
   "metadata": {},
   "outputs": [],
   "source": [
    "bandPassFilterOutput = filtering.butterBandPass(adaptiveFilterOutput,lowcut=cfg.highPass,highcut=cfg.lowPass,fs=cfg.fs)\n",
    "plots(time,bandPassFilterOutput,titles=cfg.channelNames,figsize=cfg.figure_size,pltclr=cfg.plot_color)"
   ]
  },
  {
   "cell_type": "code",
   "execution_count": null,
   "metadata": {},
   "outputs": [],
   "source": [
    "pk_bandPassFilterOutput = quality_p2p(bandPassFilterOutput)\n",
    "print(\"Peak-Peak @ Fz\",pk_bandPassFilterOutput[0])\n",
    "print(\"Peak-Peak @ Cz\",pk_bandPassFilterOutput[1])\n",
    "print(\"Peak-Peak @ Pz\",pk_bandPassFilterOutput[2])"
   ]
  },
  {
   "cell_type": "code",
   "execution_count": null,
   "metadata": {},
   "outputs": [],
   "source": [
    "erps = erpExtraction()\n",
    "N1P3 = erps.N100P300(trigOutput,bandPassFilterOutput,time,stimTrig=cfg.stimTrig,clip=cfg.clip,dispIMG=False)\n",
    "N4 = erps.N400(trigOutput,bandPassFilterOutput,time,stimTrig=cfg.stimTrig,clip=cfg.clip,dispIMG=False)\n",
    "N1P3_Fz = N1P3[0]\n",
    "N1P3_Cz = N1P3[1]\n",
    "N1P3_Pz = N1P3[2]\n",
    "N4_Fz = N4[0]\n",
    "N4_Cz = N4[1]\n",
    "N4_Pz = N4[2]\n",
    "erp_latency = np.array(np.linspace(start=-100, stop=900, num=len(N1P3_Fz[0]),dtype=object),dtype=object)"
   ]
  },
  {
   "cell_type": "code",
   "execution_count": null,
   "metadata": {},
   "outputs": [],
   "source": [
    "#   Application of low pass filter to remove alpha oscillations\n",
    "cutoff = 5\n",
    "dev_Fz = filtering.butter_lowpass(N1P3_Fz[1],cutoff=cutoff,fs=cfg.fs,order=4)\n",
    "std_Fz = filtering.butter_lowpass(N1P3_Fz[0],cutoff=cutoff,fs=cfg.fs,order=4)\n",
    "dev_Cz = filtering.butter_lowpass(N1P3_Cz[1],cutoff=cutoff,fs=cfg.fs,order=4)\n",
    "std_Cz = filtering.butter_lowpass(N1P3_Cz[0],cutoff=cutoff,fs=cfg.fs,order=4)\n",
    "dev_Pz = filtering.butter_lowpass(N1P3_Pz[1],cutoff=cutoff,fs=cfg.fs,order=4)\n",
    "std_Pz = filtering.butter_lowpass(N1P3_Pz[0],cutoff=cutoff,fs=cfg.fs,order=4)\n",
    "inc_Fz = filtering.butter_lowpass(N4_Fz[1],cutoff=cutoff,fs=cfg.fs,order=4)\n",
    "con_Fz = filtering.butter_lowpass(N4_Fz[0],cutoff=cutoff,fs=cfg.fs,order=4)\n",
    "inc_Cz = filtering.butter_lowpass(N4_Cz[1],cutoff=cutoff,fs=cfg.fs,order=4)\n",
    "con_Cz = filtering.butter_lowpass(N4_Cz[0],cutoff=cutoff,fs=cfg.fs,order=4)\n",
    "inc_Pz = filtering.butter_lowpass(N4_Pz[1],cutoff=cutoff,fs=cfg.fs,order=4)\n",
    "con_Pz = filtering.butter_lowpass(N4_Pz[0],cutoff=cutoff,fs=cfg.fs,order=4)"
   ]
  },
  {
   "cell_type": "code",
   "execution_count": null,
   "metadata": {},
   "outputs": [],
   "source": [
    "#   Plot ERPs\n",
    "plot_ERPs(img_save_path,std_Fz,dev_Fz,erp_latency,'N1P3_Fz','Latency (ms)','Amplitude (uV)','std','dev','b','r',10,image_name)\n",
    "plot_ERPs(img_save_path,std_Cz,dev_Cz,erp_latency,'N1P3_Cz','Latency (ms)','Amplitude (uV)','std','dev','b','r',10,image_name)\n",
    "plot_ERPs(img_save_path,std_Pz,dev_Pz,erp_latency,'N1P3_Pz','Latency (ms)','Amplitude (uV)','std','dev','b','r',10,image_name)\n",
    "plot_ERPs(img_save_path,con_Fz,inc_Fz,erp_latency,'N4_Fz','Latency (ms)','Amplitude (uV)','con','inc','b','r',10,image_name)\n",
    "plot_ERPs(img_save_path,con_Cz,inc_Cz,erp_latency,'N4_Cz','Latency (ms)','Amplitude (uV)','con','inc','b','r',10,image_name)\n",
    "plot_ERPs(img_save_path,con_Pz,inc_Pz,erp_latency,'N4_Pz','Latency (ms)','Amplitude (uV)','con','inc','b','r',10,image_name)"
   ]
  }
 ],
 "metadata": {
  "kernelspec": {
   "display_name": "Python 3.9.7 ('base')",
   "language": "python",
   "name": "python3"
  },
  "language_info": {
   "codemirror_mode": {
    "name": "ipython",
    "version": 3
   },
   "file_extension": ".py",
   "mimetype": "text/x-python",
   "name": "python",
   "nbconvert_exporter": "python",
   "pygments_lexer": "ipython3",
   "version": "3.9.7"
  },
  "orig_nbformat": 4,
  "vscode": {
   "interpreter": {
    "hash": "40d3a090f54c6569ab1632332b64b2c03c39dcf918b08424e98f38b5ae0af88f"
   }
  }
 },
 "nbformat": 4,
 "nbformat_minor": 2
}
